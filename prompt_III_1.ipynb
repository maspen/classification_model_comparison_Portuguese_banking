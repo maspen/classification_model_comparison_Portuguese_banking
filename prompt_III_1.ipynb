{
 "cells": [
  {
   "cell_type": "markdown",
   "metadata": {},
   "source": [
    "# Practical Application III: Comparing Classifiers -- #1\n",
    "\n",
    "**Overview**: In this practical application, your goal is to compare the performance of the classifiers we encountered in this section, namely K Nearest Neighbor, Logistic Regression, Decision Trees, and Support Vector Machines.  We will utilize a dataset related to marketing bank products over the telephone.  \n",
    "\n"
   ]
  },
  {
   "cell_type": "markdown",
   "metadata": {},
   "source": [
    "### Getting Started\n",
    "\n",
    "Our dataset comes from the UCI Machine Learning repository [link](https://archive.ics.uci.edu/ml/datasets/bank+marketing).  The data is from a Portugese banking institution and is a collection of the results of multiple marketing campaigns.  We will make use of the article accompanying the dataset [here](CRISP-DM-BANK.pdf) for more information on the data and features.\n",
    "\n"
   ]
  },
  {
   "cell_type": "markdown",
   "metadata": {},
   "source": [
    "### Problem 1: Understanding the Data\n",
    "\n",
    "To gain a better understanding of the data, please read the information provided in the UCI link above, and examine the **Materials and Methods** section of the paper.  How many marketing campaigns does this data represent?"
   ]
  },
  {
   "cell_type": "markdown",
   "metadata": {},
   "source": [
    "**The data collected information about 17 campaigns.**"
   ]
  },
  {
   "cell_type": "markdown",
   "metadata": {},
   "source": [
    "### Problem 2: Read in the Data\n",
    "\n",
    "Use pandas to read in the dataset `bank-additional-full.csv` and assign to a meaningful variable name."
   ]
  },
  {
   "cell_type": "code",
   "execution_count": 150,
   "metadata": {},
   "outputs": [],
   "source": [
    "import numpy as np\n",
    "import pandas as pd\n",
    "import matplotlib.pyplot as plt\n",
    "import seaborn as sns\n",
    "import warnings\n",
    "import time\n",
    "\n",
    "from sklearn.model_selection import train_test_split, GridSearchCV\n",
    "from sklearn.dummy import DummyClassifier\n",
    "from sklearn.multioutput import MultiOutputClassifier\n",
    "from sklearn.model_selection import cross_val_score, cross_val_predict, cross_validate\n",
    "from sklearn.metrics import roc_curve\n",
    "\n",
    "from sklearn.metrics import accuracy_score, precision_score,recall_score, classification_report, mean_squared_error, f1_score, confusion_matrix\n",
    "\n",
    "from sklearn.linear_model import LogisticRegression\n",
    "from sklearn.neighbors import KNeighborsClassifier\n",
    "from sklearn.tree import DecisionTreeClassifier\n",
    "from sklearn.svm import SVC\n",
    "from sklearn.preprocessing import StandardScaler, PolynomialFeatures\n",
    "from sklearn.pipeline import Pipeline\n",
    "from sklearn import set_config\n",
    "set_config(display=\"diagram\")\n",
    "warnings.filterwarnings('ignore')"
   ]
  },
  {
   "cell_type": "code",
   "execution_count": 2,
   "metadata": {},
   "outputs": [],
   "source": [
    "df = pd.read_csv('data/bank-additional-full.csv', sep = ';')"
   ]
  },
  {
   "cell_type": "code",
   "execution_count": 3,
   "metadata": {},
   "outputs": [
    {
     "data": {
      "text/html": [
       "<div>\n",
       "<style scoped>\n",
       "    .dataframe tbody tr th:only-of-type {\n",
       "        vertical-align: middle;\n",
       "    }\n",
       "\n",
       "    .dataframe tbody tr th {\n",
       "        vertical-align: top;\n",
       "    }\n",
       "\n",
       "    .dataframe thead th {\n",
       "        text-align: right;\n",
       "    }\n",
       "</style>\n",
       "<table border=\"1\" class=\"dataframe\">\n",
       "  <thead>\n",
       "    <tr style=\"text-align: right;\">\n",
       "      <th></th>\n",
       "      <th>age</th>\n",
       "      <th>job</th>\n",
       "      <th>marital</th>\n",
       "      <th>education</th>\n",
       "      <th>default</th>\n",
       "      <th>housing</th>\n",
       "      <th>loan</th>\n",
       "      <th>contact</th>\n",
       "      <th>month</th>\n",
       "      <th>day_of_week</th>\n",
       "      <th>...</th>\n",
       "      <th>campaign</th>\n",
       "      <th>pdays</th>\n",
       "      <th>previous</th>\n",
       "      <th>poutcome</th>\n",
       "      <th>emp.var.rate</th>\n",
       "      <th>cons.price.idx</th>\n",
       "      <th>cons.conf.idx</th>\n",
       "      <th>euribor3m</th>\n",
       "      <th>nr.employed</th>\n",
       "      <th>y</th>\n",
       "    </tr>\n",
       "  </thead>\n",
       "  <tbody>\n",
       "    <tr>\n",
       "      <th>0</th>\n",
       "      <td>56</td>\n",
       "      <td>housemaid</td>\n",
       "      <td>married</td>\n",
       "      <td>basic.4y</td>\n",
       "      <td>no</td>\n",
       "      <td>no</td>\n",
       "      <td>no</td>\n",
       "      <td>telephone</td>\n",
       "      <td>may</td>\n",
       "      <td>mon</td>\n",
       "      <td>...</td>\n",
       "      <td>1</td>\n",
       "      <td>999</td>\n",
       "      <td>0</td>\n",
       "      <td>nonexistent</td>\n",
       "      <td>1.1</td>\n",
       "      <td>93.994</td>\n",
       "      <td>-36.4</td>\n",
       "      <td>4.857</td>\n",
       "      <td>5191.0</td>\n",
       "      <td>no</td>\n",
       "    </tr>\n",
       "    <tr>\n",
       "      <th>1</th>\n",
       "      <td>57</td>\n",
       "      <td>services</td>\n",
       "      <td>married</td>\n",
       "      <td>high.school</td>\n",
       "      <td>unknown</td>\n",
       "      <td>no</td>\n",
       "      <td>no</td>\n",
       "      <td>telephone</td>\n",
       "      <td>may</td>\n",
       "      <td>mon</td>\n",
       "      <td>...</td>\n",
       "      <td>1</td>\n",
       "      <td>999</td>\n",
       "      <td>0</td>\n",
       "      <td>nonexistent</td>\n",
       "      <td>1.1</td>\n",
       "      <td>93.994</td>\n",
       "      <td>-36.4</td>\n",
       "      <td>4.857</td>\n",
       "      <td>5191.0</td>\n",
       "      <td>no</td>\n",
       "    </tr>\n",
       "    <tr>\n",
       "      <th>2</th>\n",
       "      <td>37</td>\n",
       "      <td>services</td>\n",
       "      <td>married</td>\n",
       "      <td>high.school</td>\n",
       "      <td>no</td>\n",
       "      <td>yes</td>\n",
       "      <td>no</td>\n",
       "      <td>telephone</td>\n",
       "      <td>may</td>\n",
       "      <td>mon</td>\n",
       "      <td>...</td>\n",
       "      <td>1</td>\n",
       "      <td>999</td>\n",
       "      <td>0</td>\n",
       "      <td>nonexistent</td>\n",
       "      <td>1.1</td>\n",
       "      <td>93.994</td>\n",
       "      <td>-36.4</td>\n",
       "      <td>4.857</td>\n",
       "      <td>5191.0</td>\n",
       "      <td>no</td>\n",
       "    </tr>\n",
       "    <tr>\n",
       "      <th>3</th>\n",
       "      <td>40</td>\n",
       "      <td>admin.</td>\n",
       "      <td>married</td>\n",
       "      <td>basic.6y</td>\n",
       "      <td>no</td>\n",
       "      <td>no</td>\n",
       "      <td>no</td>\n",
       "      <td>telephone</td>\n",
       "      <td>may</td>\n",
       "      <td>mon</td>\n",
       "      <td>...</td>\n",
       "      <td>1</td>\n",
       "      <td>999</td>\n",
       "      <td>0</td>\n",
       "      <td>nonexistent</td>\n",
       "      <td>1.1</td>\n",
       "      <td>93.994</td>\n",
       "      <td>-36.4</td>\n",
       "      <td>4.857</td>\n",
       "      <td>5191.0</td>\n",
       "      <td>no</td>\n",
       "    </tr>\n",
       "    <tr>\n",
       "      <th>4</th>\n",
       "      <td>56</td>\n",
       "      <td>services</td>\n",
       "      <td>married</td>\n",
       "      <td>high.school</td>\n",
       "      <td>no</td>\n",
       "      <td>no</td>\n",
       "      <td>yes</td>\n",
       "      <td>telephone</td>\n",
       "      <td>may</td>\n",
       "      <td>mon</td>\n",
       "      <td>...</td>\n",
       "      <td>1</td>\n",
       "      <td>999</td>\n",
       "      <td>0</td>\n",
       "      <td>nonexistent</td>\n",
       "      <td>1.1</td>\n",
       "      <td>93.994</td>\n",
       "      <td>-36.4</td>\n",
       "      <td>4.857</td>\n",
       "      <td>5191.0</td>\n",
       "      <td>no</td>\n",
       "    </tr>\n",
       "  </tbody>\n",
       "</table>\n",
       "<p>5 rows × 21 columns</p>\n",
       "</div>"
      ],
      "text/plain": [
       "   age        job  marital    education  default housing loan    contact  \\\n",
       "0   56  housemaid  married     basic.4y       no      no   no  telephone   \n",
       "1   57   services  married  high.school  unknown      no   no  telephone   \n",
       "2   37   services  married  high.school       no     yes   no  telephone   \n",
       "3   40     admin.  married     basic.6y       no      no   no  telephone   \n",
       "4   56   services  married  high.school       no      no  yes  telephone   \n",
       "\n",
       "  month day_of_week  ...  campaign  pdays  previous     poutcome emp.var.rate  \\\n",
       "0   may         mon  ...         1    999         0  nonexistent          1.1   \n",
       "1   may         mon  ...         1    999         0  nonexistent          1.1   \n",
       "2   may         mon  ...         1    999         0  nonexistent          1.1   \n",
       "3   may         mon  ...         1    999         0  nonexistent          1.1   \n",
       "4   may         mon  ...         1    999         0  nonexistent          1.1   \n",
       "\n",
       "   cons.price.idx  cons.conf.idx  euribor3m  nr.employed   y  \n",
       "0          93.994          -36.4      4.857       5191.0  no  \n",
       "1          93.994          -36.4      4.857       5191.0  no  \n",
       "2          93.994          -36.4      4.857       5191.0  no  \n",
       "3          93.994          -36.4      4.857       5191.0  no  \n",
       "4          93.994          -36.4      4.857       5191.0  no  \n",
       "\n",
       "[5 rows x 21 columns]"
      ]
     },
     "execution_count": 3,
     "metadata": {},
     "output_type": "execute_result"
    }
   ],
   "source": [
    "df.head()"
   ]
  },
  {
   "cell_type": "markdown",
   "metadata": {},
   "source": [
    "### Problem 3: Understanding the Features\n",
    "\n",
    "\n",
    "Examine the data description below, and determine if any of the features are missing values or need to be coerced to a different data type.\n",
    "\n",
    "\n",
    "```\n",
    "Input variables:\n",
    "# bank client data:\n",
    "1 - age (numeric)\n",
    "2 - job : type of job (categorical: 'admin.','blue-collar','entrepreneur','housemaid','management','retired','self-employed','services','student','technician','unemployed','unknown')\n",
    "3 - marital : marital status (categorical: 'divorced','married','single','unknown'; note: 'divorced' means divorced or widowed)\n",
    "4 - education (categorical: 'basic.4y','basic.6y','basic.9y','high.school','illiterate','professional.course','university.degree','unknown')\n",
    "5 - default: has credit in default? (categorical: 'no','yes','unknown')\n",
    "6 - housing: has housing loan? (categorical: 'no','yes','unknown')\n",
    "7 - loan: has personal loan? (categorical: 'no','yes','unknown')\n",
    "# related with the last contact of the current campaign:\n",
    "8 - contact: contact communication type (categorical: 'cellular','telephone')\n",
    "9 - month: last contact month of year (categorical: 'jan', 'feb', 'mar', ..., 'nov', 'dec')\n",
    "10 - day_of_week: last contact day of the week (categorical: 'mon','tue','wed','thu','fri')\n",
    "11 - duration: last contact duration, in seconds (numeric). Important note: this attribute highly affects the output target (e.g., if duration=0 then y='no'). Yet, the duration is not known before a call is performed. Also, after the end of the call y is obviously known. Thus, this input should only be included for benchmark purposes and should be discarded if the intention is to have a realistic predictive model.\n",
    "# other attributes:\n",
    "12 - campaign: number of contacts performed during this campaign and for this client (numeric, includes last contact)\n",
    "13 - pdays: number of days that passed by after the client was last contacted from a previous campaign (numeric; 999 means client was not previously contacted)\n",
    "14 - previous: number of contacts performed before this campaign and for this client (numeric)\n",
    "15 - poutcome: outcome of the previous marketing campaign (categorical: 'failure','nonexistent','success')\n",
    "# social and economic context attributes\n",
    "16 - emp.var.rate: employment variation rate - quarterly indicator (numeric)\n",
    "17 - cons.price.idx: consumer price index - monthly indicator (numeric)\n",
    "18 - cons.conf.idx: consumer confidence index - monthly indicator (numeric)\n",
    "19 - euribor3m: euribor 3 month rate - daily indicator (numeric)\n",
    "20 - nr.employed: number of employees - quarterly indicator (numeric)\n",
    "\n",
    "Output variable (desired target):\n",
    "21 - y - has the client subscribed a term deposit? (binary: 'yes','no')\n",
    "```\n",
    "\n"
   ]
  },
  {
   "cell_type": "code",
   "execution_count": 160,
   "metadata": {},
   "outputs": [
    {
     "name": "stdout",
     "output_type": "stream",
     "text": [
      "<class 'pandas.core.frame.DataFrame'>\n",
      "RangeIndex: 41188 entries, 0 to 41187\n",
      "Data columns (total 21 columns):\n",
      " #   Column          Non-Null Count  Dtype  \n",
      "---  ------          --------------  -----  \n",
      " 0   age             41188 non-null  Int64  \n",
      " 1   job             41188 non-null  string \n",
      " 2   marital         41188 non-null  string \n",
      " 3   education       41188 non-null  string \n",
      " 4   default         41188 non-null  string \n",
      " 5   housing         41188 non-null  string \n",
      " 6   loan            41188 non-null  string \n",
      " 7   contact         41188 non-null  string \n",
      " 8   month           41188 non-null  string \n",
      " 9   day_of_week     41188 non-null  string \n",
      " 10  duration        41188 non-null  Int64  \n",
      " 11  campaign        41188 non-null  Int64  \n",
      " 12  pdays           41188 non-null  Int64  \n",
      " 13  previous        41188 non-null  Int64  \n",
      " 14  poutcome        41188 non-null  string \n",
      " 15  emp.var.rate    41188 non-null  Float64\n",
      " 16  cons.price.idx  41188 non-null  Float64\n",
      " 17  cons.conf.idx   41188 non-null  Float64\n",
      " 18  euribor3m       41188 non-null  Float64\n",
      " 19  nr.employed     41188 non-null  Float64\n",
      " 20  y               41188 non-null  string \n",
      "dtypes: Float64(5), Int64(5), string(11)\n",
      "memory usage: 7.0 MB\n"
     ]
    }
   ],
   "source": [
    "df.info()"
   ]
  },
  {
   "cell_type": "code",
   "execution_count": 157,
   "metadata": {},
   "outputs": [
    {
     "data": {
      "image/png": "[encoded data removed]",
      "text/plain": [
       "<Figure size 640x480 with 1 Axes>"
      ]
     },
     "metadata": {},
     "output_type": "display_data"
    }
   ],
   "source": [
    "sns.histplot(data=df, x='y', hue='y').set(title='Comparison of Customers who did/not Receive Promotion')\n",
    "plt.savefig(\"images/customer_comparison.jpg\", bbox_inches='tight')"
   ]
  },
  {
   "cell_type": "code",
   "execution_count": 164,
   "metadata": {},
   "outputs": [
    {
     "data": {
      "text/plain": [
       "0    0.887346\n",
       "1    0.112654\n",
       "Name: y, dtype: Float64"
      ]
     },
     "execution_count": 164,
     "metadata": {},
     "output_type": "execute_result"
    }
   ],
   "source": [
    "df.y.value_counts(normalize=True)"
   ]
  },
  {
   "cell_type": "code",
   "execution_count": 5,
   "metadata": {},
   "outputs": [
    {
     "name": "stdout",
     "output_type": "stream",
     "text": [
      "<class 'pandas.core.frame.DataFrame'>\n",
      "RangeIndex: 41188 entries, 0 to 41187\n",
      "Data columns (total 21 columns):\n",
      " #   Column          Non-Null Count  Dtype  \n",
      "---  ------          --------------  -----  \n",
      " 0   age             41188 non-null  Int64  \n",
      " 1   job             41188 non-null  string \n",
      " 2   marital         41188 non-null  string \n",
      " 3   education       41188 non-null  string \n",
      " 4   default         41188 non-null  string \n",
      " 5   housing         41188 non-null  string \n",
      " 6   loan            41188 non-null  string \n",
      " 7   contact         41188 non-null  string \n",
      " 8   month           41188 non-null  string \n",
      " 9   day_of_week     41188 non-null  string \n",
      " 10  duration        41188 non-null  Int64  \n",
      " 11  campaign        41188 non-null  Int64  \n",
      " 12  pdays           41188 non-null  Int64  \n",
      " 13  previous        41188 non-null  Int64  \n",
      " 14  poutcome        41188 non-null  string \n",
      " 15  emp.var.rate    41188 non-null  Float64\n",
      " 16  cons.price.idx  41188 non-null  Float64\n",
      " 17  cons.conf.idx   41188 non-null  Float64\n",
      " 18  euribor3m       41188 non-null  Float64\n",
      " 19  nr.employed     41188 non-null  Float64\n",
      " 20  y               41188 non-null  string \n",
      "dtypes: Float64(5), Int64(5), string(11)\n",
      "memory usage: 7.0 MB\n"
     ]
    }
   ],
   "source": [
    "df = df.convert_dtypes()\n",
    "df.info()"
   ]
  },
  {
   "cell_type": "markdown",
   "metadata": {},
   "source": [
    "### Problem 4: Understanding the Task\n",
    "\n",
    "After examining the description and data, your goal now is to clearly state the *Business Objective* of the task.  State the objective below."
   ]
  },
  {
   "cell_type": "markdown",
   "metadata": {},
   "source": [
    "**Task: to increase the efficiency of bank's direct campaigns (phone, web) for long-term deposit subscriptions & reduce the number of contact.**"
   ]
  },
  {
   "cell_type": "markdown",
   "metadata": {},
   "source": [
    "### Problem 5: Engineering Features\n",
    "\n",
    "Now that you understand your business objective, we will build a basic model to get started.  Before we can do this, we must work to encode the data.  Using just the bank information features (columns 1 - 7), prepare the features and target column for modeling with appropriate encoding and transformations."
   ]
  },
  {
   "cell_type": "code",
   "execution_count": 51,
   "metadata": {},
   "outputs": [
    {
     "name": "stdout",
     "output_type": "stream",
     "text": [
      "<class 'pandas.core.frame.DataFrame'>\n",
      "RangeIndex: 41188 entries, 0 to 41187\n",
      "Data columns (total 7 columns):\n",
      " #   Column     Non-Null Count  Dtype \n",
      "---  ------     --------------  ----- \n",
      " 0   age        41188 non-null  Int64 \n",
      " 1   job        41188 non-null  string\n",
      " 2   marital    41188 non-null  string\n",
      " 3   education  41188 non-null  string\n",
      " 4   default    41188 non-null  string\n",
      " 5   housing    41188 non-null  string\n",
      " 6   loan       41188 non-null  string\n",
      "dtypes: Int64(1), string(6)\n",
      "memory usage: 2.2 MB\n"
     ]
    }
   ],
   "source": [
    "df_7 = df.iloc[:, :7]\n",
    "df_7.info()"
   ]
  },
  {
   "cell_type": "code",
   "execution_count": 52,
   "metadata": {},
   "outputs": [
    {
     "data": {
      "text/html": [
       "<div>\n",
       "<style scoped>\n",
       "    .dataframe tbody tr th:only-of-type {\n",
       "        vertical-align: middle;\n",
       "    }\n",
       "\n",
       "    .dataframe tbody tr th {\n",
       "        vertical-align: top;\n",
       "    }\n",
       "\n",
       "    .dataframe thead th {\n",
       "        text-align: right;\n",
       "    }\n",
       "</style>\n",
       "<table border=\"1\" class=\"dataframe\">\n",
       "  <thead>\n",
       "    <tr style=\"text-align: right;\">\n",
       "      <th></th>\n",
       "      <th>age</th>\n",
       "      <th>default</th>\n",
       "      <th>housing</th>\n",
       "      <th>loan</th>\n",
       "      <th>job_admin.</th>\n",
       "      <th>job_blue-collar</th>\n",
       "      <th>job_entrepreneur</th>\n",
       "      <th>job_housemaid</th>\n",
       "      <th>job_management</th>\n",
       "      <th>job_retired</th>\n",
       "      <th>...</th>\n",
       "      <th>marital_unknown</th>\n",
       "      <th>education_basic.4y</th>\n",
       "      <th>education_basic.6y</th>\n",
       "      <th>education_basic.9y</th>\n",
       "      <th>education_high.school</th>\n",
       "      <th>education_illiterate</th>\n",
       "      <th>education_professional.course</th>\n",
       "      <th>education_university.degree</th>\n",
       "      <th>education_unknown</th>\n",
       "      <th>y</th>\n",
       "    </tr>\n",
       "  </thead>\n",
       "  <tbody>\n",
       "    <tr>\n",
       "      <th>0</th>\n",
       "      <td>56</td>\n",
       "      <td>0</td>\n",
       "      <td>0</td>\n",
       "      <td>0</td>\n",
       "      <td>0</td>\n",
       "      <td>0</td>\n",
       "      <td>0</td>\n",
       "      <td>1</td>\n",
       "      <td>0</td>\n",
       "      <td>0</td>\n",
       "      <td>...</td>\n",
       "      <td>0</td>\n",
       "      <td>1</td>\n",
       "      <td>0</td>\n",
       "      <td>0</td>\n",
       "      <td>0</td>\n",
       "      <td>0</td>\n",
       "      <td>0</td>\n",
       "      <td>0</td>\n",
       "      <td>0</td>\n",
       "      <td>0</td>\n",
       "    </tr>\n",
       "    <tr>\n",
       "      <th>1</th>\n",
       "      <td>57</td>\n",
       "      <td>-1</td>\n",
       "      <td>0</td>\n",
       "      <td>0</td>\n",
       "      <td>0</td>\n",
       "      <td>0</td>\n",
       "      <td>0</td>\n",
       "      <td>0</td>\n",
       "      <td>0</td>\n",
       "      <td>0</td>\n",
       "      <td>...</td>\n",
       "      <td>0</td>\n",
       "      <td>0</td>\n",
       "      <td>0</td>\n",
       "      <td>0</td>\n",
       "      <td>1</td>\n",
       "      <td>0</td>\n",
       "      <td>0</td>\n",
       "      <td>0</td>\n",
       "      <td>0</td>\n",
       "      <td>0</td>\n",
       "    </tr>\n",
       "    <tr>\n",
       "      <th>2</th>\n",
       "      <td>37</td>\n",
       "      <td>0</td>\n",
       "      <td>1</td>\n",
       "      <td>0</td>\n",
       "      <td>0</td>\n",
       "      <td>0</td>\n",
       "      <td>0</td>\n",
       "      <td>0</td>\n",
       "      <td>0</td>\n",
       "      <td>0</td>\n",
       "      <td>...</td>\n",
       "      <td>0</td>\n",
       "      <td>0</td>\n",
       "      <td>0</td>\n",
       "      <td>0</td>\n",
       "      <td>1</td>\n",
       "      <td>0</td>\n",
       "      <td>0</td>\n",
       "      <td>0</td>\n",
       "      <td>0</td>\n",
       "      <td>0</td>\n",
       "    </tr>\n",
       "    <tr>\n",
       "      <th>3</th>\n",
       "      <td>40</td>\n",
       "      <td>0</td>\n",
       "      <td>0</td>\n",
       "      <td>0</td>\n",
       "      <td>1</td>\n",
       "      <td>0</td>\n",
       "      <td>0</td>\n",
       "      <td>0</td>\n",
       "      <td>0</td>\n",
       "      <td>0</td>\n",
       "      <td>...</td>\n",
       "      <td>0</td>\n",
       "      <td>0</td>\n",
       "      <td>1</td>\n",
       "      <td>0</td>\n",
       "      <td>0</td>\n",
       "      <td>0</td>\n",
       "      <td>0</td>\n",
       "      <td>0</td>\n",
       "      <td>0</td>\n",
       "      <td>0</td>\n",
       "    </tr>\n",
       "    <tr>\n",
       "      <th>4</th>\n",
       "      <td>56</td>\n",
       "      <td>0</td>\n",
       "      <td>0</td>\n",
       "      <td>1</td>\n",
       "      <td>0</td>\n",
       "      <td>0</td>\n",
       "      <td>0</td>\n",
       "      <td>0</td>\n",
       "      <td>0</td>\n",
       "      <td>0</td>\n",
       "      <td>...</td>\n",
       "      <td>0</td>\n",
       "      <td>0</td>\n",
       "      <td>0</td>\n",
       "      <td>0</td>\n",
       "      <td>1</td>\n",
       "      <td>0</td>\n",
       "      <td>0</td>\n",
       "      <td>0</td>\n",
       "      <td>0</td>\n",
       "      <td>0</td>\n",
       "    </tr>\n",
       "  </tbody>\n",
       "</table>\n",
       "<p>5 rows × 29 columns</p>\n",
       "</div>"
      ],
      "text/plain": [
       "   age  default  housing  loan  job_admin.  job_blue-collar  job_entrepreneur  \\\n",
       "0   56        0        0     0           0                0                 0   \n",
       "1   57       -1        0     0           0                0                 0   \n",
       "2   37        0        1     0           0                0                 0   \n",
       "3   40        0        0     0           1                0                 0   \n",
       "4   56        0        0     1           0                0                 0   \n",
       "\n",
       "   job_housemaid  job_management  job_retired  ...  marital_unknown  \\\n",
       "0              1               0            0  ...                0   \n",
       "1              0               0            0  ...                0   \n",
       "2              0               0            0  ...                0   \n",
       "3              0               0            0  ...                0   \n",
       "4              0               0            0  ...                0   \n",
       "\n",
       "   education_basic.4y  education_basic.6y  education_basic.9y  \\\n",
       "0                   1                   0                   0   \n",
       "1                   0                   0                   0   \n",
       "2                   0                   0                   0   \n",
       "3                   0                   1                   0   \n",
       "4                   0                   0                   0   \n",
       "\n",
       "   education_high.school  education_illiterate  education_professional.course  \\\n",
       "0                      0                     0                              0   \n",
       "1                      1                     0                              0   \n",
       "2                      1                     0                              0   \n",
       "3                      0                     0                              0   \n",
       "4                      1                     0                              0   \n",
       "\n",
       "   education_university.degree  education_unknown  y  \n",
       "0                            0                  0  0  \n",
       "1                            0                  0  0  \n",
       "2                            0                  0  0  \n",
       "3                            0                  0  0  \n",
       "4                            0                  0  0  \n",
       "\n",
       "[5 rows x 29 columns]"
      ]
     },
     "execution_count": 52,
     "metadata": {},
     "output_type": "execute_result"
    }
   ],
   "source": [
    "# not binary\n",
    "one_hot_encoded_job = pd.get_dummies(df_7['job'], prefix='job')\n",
    "one_hot_encoded_marital = pd.get_dummies(df_7['marital'], prefix='marital')\n",
    "one_hot_encoded_education = pd.get_dummies(df_7['education'], prefix='education')\n",
    "\n",
    "df_7 = pd.concat([df_7, one_hot_encoded_job], axis=1)\n",
    "df_7 = pd.concat([df_7, one_hot_encoded_marital], axis=1)\n",
    "df_7 = pd.concat([df_7, one_hot_encoded_education], axis=1)\n",
    "\n",
    "# binary\n",
    "df_7.loc[df_7.default == 'no', 'default'] = '0'\n",
    "df_7.loc[df_7.default == 'unknown', 'default'] = '-1'\n",
    "df_7.loc[df_7.default == 'yes', 'default'] = '1'\n",
    "\n",
    "df_7.loc[df_7.housing == 'no', 'housing'] = '0'\n",
    "df_7.loc[df_7.housing == 'unknown', 'housing'] = '-1'\n",
    "df_7.loc[df_7.housing == 'yes', 'housing'] = '1'\n",
    "\n",
    "df_7.loc[df_7.loan == 'no', 'loan'] = '0'\n",
    "df_7.loc[df_7.loan == 'unknown', 'loan'] = '-1'\n",
    "df_7.loc[df_7.loan == 'yes', 'loan'] = '1'\n",
    "\n",
    "y_column = df.iloc[:,-1:]\n",
    "y_column.loc[y_column.y == 'no', 'y'] = '0'\n",
    "\n",
    "df_7.default = pd.to_numeric(df_7['default'])\n",
    "df_7.housing = pd.to_numeric(df_7['housing'])\n",
    "df_7.loan = pd.to_numeric(df_7['loan'])\n",
    "\n",
    "\n",
    "df_7.drop(columns=['job','marital','education'], inplace=True)\n",
    "\n",
    "df_7 = pd.concat([df_7, y_column], axis=1)\n",
    "df_7.head()"
   ]
  },
  {
   "cell_type": "code",
   "execution_count": 166,
   "metadata": {},
   "outputs": [
    {
     "name": "stdout",
     "output_type": "stream",
     "text": [
      "<class 'pandas.core.frame.DataFrame'>\n",
      "RangeIndex: 41188 entries, 0 to 41187\n",
      "Data columns (total 29 columns):\n",
      " #   Column                         Non-Null Count  Dtype \n",
      "---  ------                         --------------  ----- \n",
      " 0   age                            41188 non-null  Int64 \n",
      " 1   default                        41188 non-null  int64 \n",
      " 2   housing                        41188 non-null  int64 \n",
      " 3   loan                           41188 non-null  int64 \n",
      " 4   job_admin.                     41188 non-null  uint8 \n",
      " 5   job_blue-collar                41188 non-null  uint8 \n",
      " 6   job_entrepreneur               41188 non-null  uint8 \n",
      " 7   job_housemaid                  41188 non-null  uint8 \n",
      " 8   job_management                 41188 non-null  uint8 \n",
      " 9   job_retired                    41188 non-null  uint8 \n",
      " 10  job_self-employed              41188 non-null  uint8 \n",
      " 11  job_services                   41188 non-null  uint8 \n",
      " 12  job_student                    41188 non-null  uint8 \n",
      " 13  job_technician                 41188 non-null  uint8 \n",
      " 14  job_unemployed                 41188 non-null  uint8 \n",
      " 15  job_unknown                    41188 non-null  uint8 \n",
      " 16  marital_divorced               41188 non-null  uint8 \n",
      " 17  marital_married                41188 non-null  uint8 \n",
      " 18  marital_single                 41188 non-null  uint8 \n",
      " 19  marital_unknown                41188 non-null  uint8 \n",
      " 20  education_basic.4y             41188 non-null  uint8 \n",
      " 21  education_basic.6y             41188 non-null  uint8 \n",
      " 22  education_basic.9y             41188 non-null  uint8 \n",
      " 23  education_high.school          41188 non-null  uint8 \n",
      " 24  education_illiterate           41188 non-null  uint8 \n",
      " 25  education_professional.course  41188 non-null  uint8 \n",
      " 26  education_university.degree    41188 non-null  uint8 \n",
      " 27  education_unknown              41188 non-null  uint8 \n",
      " 28  y                              41188 non-null  string\n",
      "dtypes: Int64(1), int64(3), string(1), uint8(24)\n",
      "memory usage: 2.6 MB\n"
     ]
    }
   ],
   "source": [
    "df_7.info()"
   ]
  },
  {
   "cell_type": "code",
   "execution_count": 83,
   "metadata": {},
   "outputs": [],
   "source": [
    "# df_7[df_7.columns[df_7.isna().any()]]"
   ]
  },
  {
   "cell_type": "code",
   "execution_count": 54,
   "metadata": {},
   "outputs": [],
   "source": [
    "# Create a backup of the DataFrame & save to a .csv file\n",
    "df_7_BACK = df_7.copy()\n",
    "\n",
    "df.to_csv('data/df_7.csv', sep=',', encoding='utf-8')"
   ]
  },
  {
   "cell_type": "markdown",
   "metadata": {},
   "source": [
    "### Problem 6: Train/Test Split\n",
    "\n",
    "With your data prepared, split it into a train and test set."
   ]
  },
  {
   "cell_type": "code",
   "execution_count": 86,
   "metadata": {},
   "outputs": [],
   "source": [
    "X = df_7.drop(columns=['y']) # 41188, 28\n",
    "y = df_7['y'] # 41188, 1\n",
    "\n",
    "X_train, X_test, y_train, y_test = train_test_split(X, y, test_size=0.33, random_state=42, stratify = df_7.y)"
   ]
  },
  {
   "cell_type": "code",
   "execution_count": 89,
   "metadata": {},
   "outputs": [
    {
     "data": {
      "text/plain": [
       "0    0.887335\n",
       "1    0.112665\n",
       "Name: y, dtype: Float64"
      ]
     },
     "execution_count": 89,
     "metadata": {},
     "output_type": "execute_result"
    }
   ],
   "source": [
    "y_train.value_counts(normalize = True)"
   ]
  },
  {
   "cell_type": "code",
   "execution_count": 88,
   "metadata": {},
   "outputs": [
    {
     "data": {
      "text/plain": [
       "0    0.887368\n",
       "1    0.112632\n",
       "Name: y, dtype: Float64"
      ]
     },
     "execution_count": 88,
     "metadata": {},
     "output_type": "execute_result"
    }
   ],
   "source": [
    "y_test.value_counts(normalize = True)"
   ]
  },
  {
   "cell_type": "markdown",
   "metadata": {},
   "source": [
    "### Problem 7: A Baseline Model\n",
    "\n",
    "Before we build our first model, we want to establish a baseline.  What is the baseline performance that our classifier should aim to beat?"
   ]
  },
  {
   "cell_type": "code",
   "execution_count": 128,
   "metadata": {},
   "outputs": [
    {
     "name": "stdout",
     "output_type": "stream",
     "text": [
      "Baseline: 89\n"
     ]
    }
   ],
   "source": [
    "baseline = round(y_test.value_counts(normalize = True)[0] * 100)\n",
    "print(f'Baseline: {baseline}')"
   ]
  },
  {
   "cell_type": "code",
   "execution_count": 93,
   "metadata": {},
   "outputs": [],
   "source": [
    "def get_score_dict(y_test, y_pred, pos_label):\n",
    "    scoring_dict = {}\n",
    "    scoring_dict['accuracy'] = accuracy_score(y_test, y_pred)\n",
    "    scoring_dict['precision'] = precision_score(y_test, y_pred, pos_label=pos_label)\n",
    "    scoring_dict['recall'] = recall_score(y_test, y_pred, pos_label=pos_label)\n",
    "    scoring_dict['f1'] = f1_score(y_test, y_pred, pos_label=pos_label)\n",
    "    return scoring_dict"
   ]
  },
  {
   "cell_type": "code",
   "execution_count": 95,
   "metadata": {},
   "outputs": [
    {
     "name": "stdout",
     "output_type": "stream",
     "text": [
      "--------- DummyClassifier -----------\n",
      "{'accuracy': 0.8873684984918708, 'precision': 0.8873684984918708, 'recall': 1.0, 'f1': 0.9403235236795946}\n"
     ]
    }
   ],
   "source": [
    "dummy_clf = DummyClassifier().fit(X_train, y_train)\n",
    "\n",
    "y_pred = dummy_clf.predict(X_test)\n",
    "scoring_dummy_dict = get_score_dict(y_test, y_pred, '0')\n",
    "\n",
    "print('--------- DummyClassifier -----------')\n",
    "print(scoring_dummy_dict)"
   ]
  },
  {
   "cell_type": "markdown",
   "metadata": {},
   "source": [
    "### Problem 8: A Simple Model\n",
    "\n",
    "Use Logistic Regression to build a basic model on your data.  "
   ]
  },
  {
   "cell_type": "code",
   "execution_count": 96,
   "metadata": {},
   "outputs": [],
   "source": [
    "lr = LogisticRegression().fit(X_train, y_train)"
   ]
  },
  {
   "cell_type": "markdown",
   "metadata": {},
   "source": [
    "### Problem 9: Score the Model\n",
    "\n",
    "What is the accuracy of your model?"
   ]
  },
  {
   "cell_type": "code",
   "execution_count": 98,
   "metadata": {},
   "outputs": [
    {
     "name": "stdout",
     "output_type": "stream",
     "text": [
      "--------- LogisticRegression -----------\n",
      "{'accuracy': 0.8873684984918708, 'precision': 0.8873684984918708, 'recall': 1.0, 'f1': 0.9403235236795946}\n"
     ]
    }
   ],
   "source": [
    "lr = LogisticRegression().fit(X_train, y_train)\n",
    "y_pred = lr.predict(X_test)\n",
    "scoring_lr_dict = get_score_dict(y_test, y_pred, '0')\n",
    "\n",
    "print('--------- LogisticRegression -----------')\n",
    "print(scoring_dict)"
   ]
  },
  {
   "cell_type": "markdown",
   "metadata": {},
   "source": [
    "### Problem 10: Model Comparisons\n",
    "\n",
    "Now, we aim to compare the performance of the Logistic Regression model to our KNN algorithm, Decision Tree, and SVM models.  Using the default settings for each of the models, fit and score each.  Also, be sure to compare the fit time of each of the models.  Present your findings in a `DataFrame` similar to that below:\n",
    "\n",
    "| Model | Train Time | Train Accuracy | Test Accuracy |\n",
    "| ----- | ---------- | -------------  | -----------   |\n",
    "|     |    |.     |.     |"
   ]
  },
  {
   "cell_type": "code",
   "execution_count": 99,
   "metadata": {},
   "outputs": [],
   "source": [
    "# scale test data\n",
    "sc = StandardScaler()\n",
    "X_train = sc.fit_transform(X_train)\n",
    "X_test = sc.transform(X_test)"
   ]
  },
  {
   "cell_type": "code",
   "execution_count": 100,
   "metadata": {},
   "outputs": [
    {
     "name": "stdout",
     "output_type": "stream",
     "text": [
      "----- LogisticRegression -----\n",
      "Train Time 0.07238221168518066\n",
      "Train Accuracy 0.8873276194491024\n",
      "Test Accuracy  0.8873684984918708\n"
     ]
    }
   ],
   "source": [
    "lr = LogisticRegression()\n",
    "\n",
    "lr_fit_start = time.time()\n",
    "lr.fit(X_train, y_train)\n",
    "lr_fit_time = time.time() - lr_fit_start\n",
    "\n",
    "lr_cv_results = cross_validate(lr, X, y, return_train_score=True, cv=5)\n",
    "lr_train_acc = lr_cv_results['train_score'].mean()\n",
    "\n",
    "lr_y_pred = lr.predict(X_test)\n",
    "lr_test_acc = accuracy_score(y_test, lr_y_pred)\n",
    "\n",
    "print('----- LogisticRegression -----')\n",
    "print('Train Time', lr_fit_time)\n",
    "print('Train Accuracy', lr_train_acc)\n",
    "print('Test Accuracy ', lr_test_acc)"
   ]
  },
  {
   "cell_type": "code",
   "execution_count": 101,
   "metadata": {},
   "outputs": [
    {
     "name": "stdout",
     "output_type": "stream",
     "text": [
      "----- KNeighborsClassifier -----\n",
      "Train Time 0.026667118072509766\n",
      "Train Accuracy 0.8941317876283768\n",
      "Test Accuracy  0.8783197233870375\n"
     ]
    }
   ],
   "source": [
    "knn = KNeighborsClassifier()\n",
    "\n",
    "knn_fit_start = time.time()\n",
    "knn.fit(X_train, y_train)\n",
    "knn_fit_time = time.time() - knn_fit_start\n",
    "\n",
    "knn_cv_results = cross_validate(knn, X, y, return_train_score=True, cv=5)\n",
    "knn_train_acc = knn_cv_results['train_score'].mean()\n",
    "\n",
    "knn_y_pred = knn.predict(X_test)\n",
    "knn_test_acc = accuracy_score(y_test, knn_y_pred)\n",
    "\n",
    "print('----- KNeighborsClassifier -----')\n",
    "print('Train Time', knn_fit_time)\n",
    "print('Train Accuracy', knn_train_acc)\n",
    "print('Test Accuracy ', knn_test_acc)"
   ]
  },
  {
   "cell_type": "code",
   "execution_count": 104,
   "metadata": {},
   "outputs": [
    {
     "name": "stdout",
     "output_type": "stream",
     "text": [
      "----- DecisionTreeClassifie -----\n",
      "Train Time 0.08692669868469238\n",
      "Train Accuracy 0.9174820332153658\n",
      "Test Accuracy  0.8614728168910468\n"
     ]
    }
   ],
   "source": [
    "tree = DecisionTreeClassifier()\n",
    "\n",
    "tree_fit_start = time.time()\n",
    "tree.fit(X_train, y_train)\n",
    "tree_fit_time = time.time() - tree_fit_start\n",
    "\n",
    "tree_cv_results = cross_validate(tree, X, y, return_train_score=True, cv=5)\n",
    "tree_train_acc = tree_cv_results['train_score'].mean()\n",
    "\n",
    "tree_y_pred = tree.predict(X_test)\n",
    "tree_test_acc = accuracy_score(y_test, tree_y_pred)\n",
    "\n",
    "print('----- DecisionTreeClassifie -----')\n",
    "print('Train Time', tree_fit_time)\n",
    "print('Train Accuracy', tree_train_acc)\n",
    "print('Test Accuracy ', tree_test_acc)"
   ]
  },
  {
   "cell_type": "code",
   "execution_count": 109,
   "metadata": {},
   "outputs": [
    {
     "name": "stdout",
     "output_type": "stream",
     "text": [
      "----- SVC -----\n",
      "Train Time 56.99686789512634\n",
      "Train Accuracy 0.8876553794020449\n",
      "Test Accuracy  0.8872213639373207\n"
     ]
    }
   ],
   "source": [
    "# 'probability=True' added to be able to print ROC\n",
    "svc = SVC(probability=True)\n",
    "\n",
    "svc_fit_start = time.time()\n",
    "svc.fit(X_train, y_train)\n",
    "svc_fit_time = time.time() - svc_fit_start\n",
    "\n",
    "svc_cv_results = cross_validate(svc, X, y, return_train_score=True, cv=5)\n",
    "svc_train_acc = svc_cv_results['train_score'].mean()\n",
    "\n",
    "svc_y_pred = svc.predict(X_test)\n",
    "svc_test_acc = accuracy_score(y_test, svc_y_pred)\n",
    "\n",
    "print('----- SVC -----')\n",
    "print('Train Time', svc_fit_time)\n",
    "print('Train Accuracy', svc_train_acc)\n",
    "print('Test Accuracy ', svc_test_acc)"
   ]
  },
  {
   "cell_type": "code",
   "execution_count": 111,
   "metadata": {},
   "outputs": [
    {
     "data": {
      "text/html": [
       "<div>\n",
       "<style scoped>\n",
       "    .dataframe tbody tr th:only-of-type {\n",
       "        vertical-align: middle;\n",
       "    }\n",
       "\n",
       "    .dataframe tbody tr th {\n",
       "        vertical-align: top;\n",
       "    }\n",
       "\n",
       "    .dataframe thead th {\n",
       "        text-align: right;\n",
       "    }\n",
       "</style>\n",
       "<table border=\"1\" class=\"dataframe\">\n",
       "  <thead>\n",
       "    <tr style=\"text-align: right;\">\n",
       "      <th></th>\n",
       "      <th>Model</th>\n",
       "      <th>Train Time</th>\n",
       "      <th>Train Accuracy</th>\n",
       "      <th>Test Accuracy</th>\n",
       "    </tr>\n",
       "  </thead>\n",
       "  <tbody>\n",
       "    <tr>\n",
       "      <th>0</th>\n",
       "      <td>LogisticRegression</td>\n",
       "      <td>0.072382</td>\n",
       "      <td>0.887328</td>\n",
       "      <td>0.887368</td>\n",
       "    </tr>\n",
       "    <tr>\n",
       "      <th>1</th>\n",
       "      <td>KNeighborsClassifier</td>\n",
       "      <td>0.026667</td>\n",
       "      <td>0.894132</td>\n",
       "      <td>0.878320</td>\n",
       "    </tr>\n",
       "    <tr>\n",
       "      <th>2</th>\n",
       "      <td>DecisionTreeClassifier</td>\n",
       "      <td>0.086927</td>\n",
       "      <td>0.917482</td>\n",
       "      <td>0.861473</td>\n",
       "    </tr>\n",
       "    <tr>\n",
       "      <th>3</th>\n",
       "      <td>SVC</td>\n",
       "      <td>56.996868</td>\n",
       "      <td>0.887655</td>\n",
       "      <td>0.887221</td>\n",
       "    </tr>\n",
       "  </tbody>\n",
       "</table>\n",
       "</div>"
      ],
      "text/plain": [
       "                    Model  Train Time  Train Accuracy  Test Accuracy\n",
       "0      LogisticRegression    0.072382        0.887328       0.887368\n",
       "1    KNeighborsClassifier    0.026667        0.894132       0.878320\n",
       "2  DecisionTreeClassifier    0.086927        0.917482       0.861473\n",
       "3                     SVC   56.996868        0.887655       0.887221"
      ]
     },
     "execution_count": 111,
     "metadata": {},
     "output_type": "execute_result"
    }
   ],
   "source": [
    "cols = ['Model','Train Time','Train Accuracy','Test Accuracy']\n",
    "\n",
    "data= [\n",
    "    ['LogisticRegression',lr_fit_time,lr_train_acc,lr_test_acc],\n",
    "    ['KNeighborsClassifier',knn_fit_time,knn_train_acc,knn_test_acc],\n",
    "    ['DecisionTreeClassifier',tree_fit_time,tree_train_acc,tree_test_acc],\n",
    "    ['SVC', svc_fit_time, svc_train_acc, svc_test_acc]\n",
    "]\n",
    "default_comparo_df = pd.DataFrame(data, columns=cols)\n",
    "default_comparo_df"
   ]
  },
  {
   "cell_type": "code",
   "execution_count": 152,
   "metadata": {},
   "outputs": [],
   "source": [
    "y_pred_prob1 = lr.predict_proba(X_test)[:,1]\n",
    "fpr1 , tpr1, thresholds1 = roc_curve(y_test, y_pred_prob1, pos_label='1')\n",
    "\n",
    "y_pred_prob2 = knn.predict_proba(X_test)[:,1]\n",
    "fpr2 , tpr2, thresholds2 = roc_curve(y_test, y_pred_prob2, pos_label='1')\n",
    "\n",
    "y_pred_prob3 = tree.predict_proba(X_test)[:,1]\n",
    "fpr3 , tpr3, thresholds3 = roc_curve(y_test, y_pred_prob3, pos_label='1')\n",
    "\n",
    "y_pred_prob4 = svc.predict_proba(X_test)[:,1]\n",
    "fpr4 , tpr4, thresholds4 = roc_curve(y_test, y_pred_prob4, pos_label='1')"
   ]
  },
  {
   "cell_type": "code",
   "execution_count": 153,
   "metadata": {},
   "outputs": [
    {
     "data": {
      "image/png": "[encoded data removed]",
      "text/plain": [
       "<Figure size 640x480 with 1 Axes>"
      ]
     },
     "metadata": {},
     "output_type": "display_data"
    },
    {
     "data": {
      "text/plain": [
       "<Figure size 640x480 with 0 Axes>"
      ]
     },
     "metadata": {},
     "output_type": "display_data"
    }
   ],
   "source": [
    "plt.plot([0,1],[0,1], 'k--')\n",
    "plt.plot(fpr1, tpr1, label= \"LR\")\n",
    "plt.plot(fpr2, tpr2, label= \"KNN\")\n",
    "plt.plot(fpr3, tpr3, label= \"Tree\")\n",
    "plt.plot(fpr4, tpr4, label= \"SVC\")\n",
    "plt.legend()\n",
    "plt.xlabel(\"FPR\")\n",
    "plt.ylabel(\"TPR\")\n",
    "plt.title('Receiver Operating Characteristic')\n",
    "plt.show()\n",
    "\n",
    "plt.savefig(\"images/roc_untuned.jpg\", bbox_inches='tight')"
   ]
  },
  {
   "cell_type": "markdown",
   "metadata": {},
   "source": [
    "**More feature engineering and exploration. For example, should we keep the gender feature? Why or why not?**"
   ]
  },
  {
   "cell_type": "code",
   "execution_count": 118,
   "metadata": {},
   "outputs": [],
   "source": [
    "df_2 = df.copy()"
   ]
  },
  {
   "cell_type": "code",
   "execution_count": 119,
   "metadata": {},
   "outputs": [
    {
     "data": {
      "text/plain": [
       "{'age': 78,\n",
       " 'job': 12,\n",
       " 'marital': 4,\n",
       " 'education': 8,\n",
       " 'default': 3,\n",
       " 'housing': 3,\n",
       " 'loan': 3,\n",
       " 'contact': 2,\n",
       " 'month': 10,\n",
       " 'day_of_week': 5,\n",
       " 'duration': 1544,\n",
       " 'campaign': 42,\n",
       " 'pdays': 27,\n",
       " 'previous': 8,\n",
       " 'poutcome': 3,\n",
       " 'emp.var.rate': 10,\n",
       " 'cons.price.idx': 26,\n",
       " 'cons.conf.idx': 26,\n",
       " 'euribor3m': 316,\n",
       " 'nr.employed': 11,\n",
       " 'y': 2}"
      ]
     },
     "execution_count": 119,
     "metadata": {},
     "output_type": "execute_result"
    }
   ],
   "source": [
    "col_uni_val={}\n",
    "for i in df_2.columns:\n",
    "    col_uni_val[i] = len(df_2[i].unique())\n",
    "    \n",
    "col_uni_val"
   ]
  },
  {
   "cell_type": "code",
   "execution_count": 123,
   "metadata": {},
   "outputs": [
    {
     "data": {
      "text/plain": [
       "Index(['cellular', 'telephone'], dtype='string')"
      ]
     },
     "execution_count": 123,
     "metadata": {},
     "output_type": "execute_result"
    }
   ],
   "source": [
    "df_2.contact.value_counts().index"
   ]
  },
  {
   "cell_type": "code",
   "execution_count": 218,
   "metadata": {},
   "outputs": [
    {
     "data": {
      "text/plain": [
       "nonexistent    35563\n",
       "failure         4252\n",
       "success         1373\n",
       "Name: poutcome, dtype: Int64"
      ]
     },
     "execution_count": 218,
     "metadata": {},
     "output_type": "execute_result"
    }
   ],
   "source": [
    "df_2.poutcome.value_counts() # outcome of the previous marketing campaign"
   ]
  },
  {
   "cell_type": "code",
   "execution_count": 220,
   "metadata": {},
   "outputs": [
    {
     "data": {
      "text/plain": [
       "no         32588\n",
       "unknown     8597\n",
       "yes            3\n",
       "Name: default, dtype: Int64"
      ]
     },
     "execution_count": 220,
     "metadata": {},
     "output_type": "execute_result"
    }
   ],
   "source": [
    "df_2.default.value_counts() # has credit in default?"
   ]
  },
  {
   "cell_type": "code",
   "execution_count": 180,
   "metadata": {},
   "outputs": [
    {
     "data": {
      "image/png": "[encoded data removed]",
      "text/plain": [
       "<Figure size 640x480 with 1 Axes>"
      ]
     },
     "metadata": {},
     "output_type": "display_data"
    }
   ],
   "source": [
    "# vc_series = df_2['nr.employed'].value_counts() #number of employees\n",
    "vc_series.values\n",
    "vc_series.index\n",
    "ax = vc_series.plot.bar(x=vc_series.index, y=vc_series.values, rot=45)\n",
    "ax.set_title(\"Counts of Employees\")\n",
    "ax.set_xlabel(\"Number of Employees - quarterly indicator\")\n",
    "ax.set_ylabel(\"Value Counts\")\n",
    "ax.get_figure().savefig(\"images/num_employees_value_counts.jpg\", bbox_inches='tight')"
   ]
  },
  {
   "cell_type": "code",
   "execution_count": 173,
   "metadata": {},
   "outputs": [
    {
     "data": {
      "text/plain": [
       "yes        21576\n",
       "no         18622\n",
       "unknown      990\n",
       "Name: housing, dtype: Int64"
      ]
     },
     "execution_count": 173,
     "metadata": {},
     "output_type": "execute_result"
    }
   ],
   "source": [
    "df_2.housing.value_counts()"
   ]
  },
  {
   "cell_type": "code",
   "execution_count": 224,
   "metadata": {},
   "outputs": [
    {
     "data": {
      "text/plain": [
       "no         33950\n",
       "yes         6248\n",
       "unknown      990\n",
       "Name: loan, dtype: Int64"
      ]
     },
     "execution_count": 224,
     "metadata": {},
     "output_type": "execute_result"
    }
   ],
   "source": [
    "df_2.loan.value_counts()"
   ]
  },
  {
   "cell_type": "code",
   "execution_count": 225,
   "metadata": {},
   "outputs": [
    {
     "data": {
      "text/plain": [
       "999    39673\n",
       "3        439\n",
       "6        412\n",
       "4        118\n",
       "9         64\n",
       "2         61\n",
       "7         60\n",
       "12        58\n",
       "10        52\n",
       "5         46\n",
       "13        36\n",
       "11        28\n",
       "1         26\n",
       "15        24\n",
       "14        20\n",
       "8         18\n",
       "0         15\n",
       "16        11\n",
       "17         8\n",
       "18         7\n",
       "22         3\n",
       "19         3\n",
       "21         2\n",
       "25         1\n",
       "26         1\n",
       "27         1\n",
       "20         1\n",
       "Name: pdays, dtype: Int64"
      ]
     },
     "execution_count": 225,
     "metadata": {},
     "output_type": "execute_result"
    }
   ],
   "source": [
    "df_2.pdays.value_counts() # number of days that passed by after the client was last contacted from a previous campaign\n",
    "# 999 means never contacted"
   ]
  },
  {
   "cell_type": "markdown",
   "metadata": {},
   "source": [
    "'gender feature' does not exist in this data set. However, having read the documentation, it was stated that\n",
    "the ration of male:female was almost identical -> could be removed.\n",
    "\n",
    "* contact\n",
    "\n",
    "cellular     26144\n",
    "telephone    15044\n",
    "\n",
    "may not be that significant except to indicate that the customers tend to use their cell phones more than their\n",
    "land lines. This could suggest that if the bank has both numbers for a (potential) customer, using their cell\n",
    "to contact them would be a better choice.\n",
    "\n",
    "* poutcome\n",
    "\n",
    "nonexistent    35563\n",
    "failure         4252\n",
    "success         1373\n",
    "\n",
    "Suggests that the campaigns have not been very facorable. However, 'nonexistent' suggests that either good record-\n",
    "keeping is not in place & should be improved and/or that these are potential clients who have not been contacted\n",
    "and need reaching out to.\n",
    "\n",
    "* default (defaulted on a loan)\n",
    "\n",
    "no         32588\n",
    "unknown     8597\n",
    "yes            3\n",
    "\n",
    "Is a crucial metric. Only 3 have but there are ~8.5K where this information is unknown. Perhaps before putting\n",
    "in the effort of contacting them (assuming that they have not and 'default' is a deal-breaker for the bank),\n",
    "it would be helpful to get this information before making efforts to contact the clients.\n",
    "\n",
    "* loan\n",
    "\n",
    "no         33950\n",
    "yes         6248\n",
    "unknown      990\n",
    "\n",
    "Probably one of the most important factors to consider. Why do most customers not have a loan (what factors play\n",
    "into this? Do they have bad credit, defaulted on a loan, etc.) or have they not been contacted yet? If the later,\n",
    "and all bank rubrics are met, these customers should be focused on."
   ]
  },
  {
   "cell_type": "code",
   "execution_count": null,
   "metadata": {},
   "outputs": [],
   "source": []
  }
 ],
 "metadata": {
  "kernelspec": {
   "display_name": "Python 3 (ipykernel)",
   "language": "python",
   "name": "python3"
  },
  "language_info": {
   "codemirror_mode": {
    "name": "ipython",
    "version": 3
   },
   "file_extension": ".py",
   "mimetype": "text/x-python",
   "name": "python",
   "nbconvert_exporter": "python",
   "pygments_lexer": "ipython3",
   "version": "3.10.9"
  },
  "widgets": {
   "application/vnd.jupyter.widget-state+json": {
    "state": {},
    "version_major": 2,
    "version_minor": 0
   }
  }
 },
 "nbformat": 4,
 "nbformat_minor": 4
}
