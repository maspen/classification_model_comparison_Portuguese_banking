{
 "cells": [
  {
   "cell_type": "markdown",
   "metadata": {},
   "source": [
    "# Practical Application III: Comparing Classifiers -- #2"
   ]
  },
  {
   "cell_type": "markdown",
   "metadata": {},
   "source": [
    "### Problem 11: Improving the Model (2 of 2)\n",
    "\n",
    "Now that we have some basic models on the board, we want to try to improve these.  Below, we list a few things to explore in this pursuit.\n",
    "\n",
    "- Hyperparameter tuning and grid search.  All of our models have additional hyperparameters to tune and explore.  For example the number of neighbors in KNN or the maximum depth of a Decision Tree."
   ]
  },
  {
   "cell_type": "code",
   "execution_count": 164,
   "metadata": {},
   "outputs": [],
   "source": [
    "import numpy as np\n",
    "import pandas as pd\n",
    "import matplotlib.pyplot as plt\n",
    "import plotly.express as px\n",
    "import seaborn as sns\n",
    "import warnings\n",
    "import time\n",
    "from random import shuffle\n",
    "from sklearn.metrics import roc_curve\n",
    "\n",
    "from sklearn.preprocessing import LabelEncoder\n",
    "from sklearn.preprocessing import OrdinalEncoder\n",
    "\n",
    "from sklearn.feature_selection import SequentialFeatureSelector\n",
    "\n",
    "from sklearn.model_selection import train_test_split, GridSearchCV\n",
    "from sklearn.dummy import DummyClassifier\n",
    "from sklearn.model_selection import cross_val_score, cross_val_predict, cross_validate\n",
    "from sklearn.metrics import ConfusionMatrixDisplay, confusion_matrix\n",
    "\n",
    "from sklearn.metrics import accuracy_score, precision_score,recall_score, classification_report, mean_squared_error, f1_score, confusion_matrix\n",
    "\n",
    "from sklearn.linear_model import LogisticRegression, LinearRegression\n",
    "from sklearn.neighbors import KNeighborsClassifier\n",
    "from sklearn.tree import DecisionTreeClassifier\n",
    "from sklearn.svm import SVC\n",
    "from sklearn.preprocessing import StandardScaler, PolynomialFeatures\n",
    "from sklearn.pipeline import Pipeline\n",
    "from sklearn import set_config\n",
    "set_config(display=\"diagram\")\n",
    "warnings.filterwarnings('ignore')"
   ]
  },
  {
   "cell_type": "code",
   "execution_count": 3,
   "metadata": {},
   "outputs": [],
   "source": [
    "df = pd.read_csv('data/bank-additional-full.csv', sep = ';')"
   ]
  },
  {
   "cell_type": "code",
   "execution_count": 4,
   "metadata": {},
   "outputs": [
    {
     "data": {
      "text/html": [
       "<div>\n",
       "<style scoped>\n",
       "    .dataframe tbody tr th:only-of-type {\n",
       "        vertical-align: middle;\n",
       "    }\n",
       "\n",
       "    .dataframe tbody tr th {\n",
       "        vertical-align: top;\n",
       "    }\n",
       "\n",
       "    .dataframe thead th {\n",
       "        text-align: right;\n",
       "    }\n",
       "</style>\n",
       "<table border=\"1\" class=\"dataframe\">\n",
       "  <thead>\n",
       "    <tr style=\"text-align: right;\">\n",
       "      <th></th>\n",
       "      <th>age</th>\n",
       "      <th>job</th>\n",
       "      <th>marital</th>\n",
       "      <th>education</th>\n",
       "      <th>default</th>\n",
       "      <th>housing</th>\n",
       "      <th>loan</th>\n",
       "      <th>contact</th>\n",
       "      <th>month</th>\n",
       "      <th>day_of_week</th>\n",
       "      <th>...</th>\n",
       "      <th>campaign</th>\n",
       "      <th>pdays</th>\n",
       "      <th>previous</th>\n",
       "      <th>poutcome</th>\n",
       "      <th>emp.var.rate</th>\n",
       "      <th>cons.price.idx</th>\n",
       "      <th>cons.conf.idx</th>\n",
       "      <th>euribor3m</th>\n",
       "      <th>nr.employed</th>\n",
       "      <th>y</th>\n",
       "    </tr>\n",
       "  </thead>\n",
       "  <tbody>\n",
       "    <tr>\n",
       "      <th>0</th>\n",
       "      <td>56</td>\n",
       "      <td>housemaid</td>\n",
       "      <td>married</td>\n",
       "      <td>basic.4y</td>\n",
       "      <td>no</td>\n",
       "      <td>no</td>\n",
       "      <td>no</td>\n",
       "      <td>telephone</td>\n",
       "      <td>may</td>\n",
       "      <td>mon</td>\n",
       "      <td>...</td>\n",
       "      <td>1</td>\n",
       "      <td>999</td>\n",
       "      <td>0</td>\n",
       "      <td>nonexistent</td>\n",
       "      <td>1.1</td>\n",
       "      <td>93.994</td>\n",
       "      <td>-36.4</td>\n",
       "      <td>4.857</td>\n",
       "      <td>5191.0</td>\n",
       "      <td>no</td>\n",
       "    </tr>\n",
       "    <tr>\n",
       "      <th>1</th>\n",
       "      <td>57</td>\n",
       "      <td>services</td>\n",
       "      <td>married</td>\n",
       "      <td>high.school</td>\n",
       "      <td>unknown</td>\n",
       "      <td>no</td>\n",
       "      <td>no</td>\n",
       "      <td>telephone</td>\n",
       "      <td>may</td>\n",
       "      <td>mon</td>\n",
       "      <td>...</td>\n",
       "      <td>1</td>\n",
       "      <td>999</td>\n",
       "      <td>0</td>\n",
       "      <td>nonexistent</td>\n",
       "      <td>1.1</td>\n",
       "      <td>93.994</td>\n",
       "      <td>-36.4</td>\n",
       "      <td>4.857</td>\n",
       "      <td>5191.0</td>\n",
       "      <td>no</td>\n",
       "    </tr>\n",
       "    <tr>\n",
       "      <th>2</th>\n",
       "      <td>37</td>\n",
       "      <td>services</td>\n",
       "      <td>married</td>\n",
       "      <td>high.school</td>\n",
       "      <td>no</td>\n",
       "      <td>yes</td>\n",
       "      <td>no</td>\n",
       "      <td>telephone</td>\n",
       "      <td>may</td>\n",
       "      <td>mon</td>\n",
       "      <td>...</td>\n",
       "      <td>1</td>\n",
       "      <td>999</td>\n",
       "      <td>0</td>\n",
       "      <td>nonexistent</td>\n",
       "      <td>1.1</td>\n",
       "      <td>93.994</td>\n",
       "      <td>-36.4</td>\n",
       "      <td>4.857</td>\n",
       "      <td>5191.0</td>\n",
       "      <td>no</td>\n",
       "    </tr>\n",
       "    <tr>\n",
       "      <th>3</th>\n",
       "      <td>40</td>\n",
       "      <td>admin.</td>\n",
       "      <td>married</td>\n",
       "      <td>basic.6y</td>\n",
       "      <td>no</td>\n",
       "      <td>no</td>\n",
       "      <td>no</td>\n",
       "      <td>telephone</td>\n",
       "      <td>may</td>\n",
       "      <td>mon</td>\n",
       "      <td>...</td>\n",
       "      <td>1</td>\n",
       "      <td>999</td>\n",
       "      <td>0</td>\n",
       "      <td>nonexistent</td>\n",
       "      <td>1.1</td>\n",
       "      <td>93.994</td>\n",
       "      <td>-36.4</td>\n",
       "      <td>4.857</td>\n",
       "      <td>5191.0</td>\n",
       "      <td>no</td>\n",
       "    </tr>\n",
       "    <tr>\n",
       "      <th>4</th>\n",
       "      <td>56</td>\n",
       "      <td>services</td>\n",
       "      <td>married</td>\n",
       "      <td>high.school</td>\n",
       "      <td>no</td>\n",
       "      <td>no</td>\n",
       "      <td>yes</td>\n",
       "      <td>telephone</td>\n",
       "      <td>may</td>\n",
       "      <td>mon</td>\n",
       "      <td>...</td>\n",
       "      <td>1</td>\n",
       "      <td>999</td>\n",
       "      <td>0</td>\n",
       "      <td>nonexistent</td>\n",
       "      <td>1.1</td>\n",
       "      <td>93.994</td>\n",
       "      <td>-36.4</td>\n",
       "      <td>4.857</td>\n",
       "      <td>5191.0</td>\n",
       "      <td>no</td>\n",
       "    </tr>\n",
       "  </tbody>\n",
       "</table>\n",
       "<p>5 rows × 21 columns</p>\n",
       "</div>"
      ],
      "text/plain": [
       "   age        job  marital    education  default housing loan    contact  \\\n",
       "0   56  housemaid  married     basic.4y       no      no   no  telephone   \n",
       "1   57   services  married  high.school  unknown      no   no  telephone   \n",
       "2   37   services  married  high.school       no     yes   no  telephone   \n",
       "3   40     admin.  married     basic.6y       no      no   no  telephone   \n",
       "4   56   services  married  high.school       no      no  yes  telephone   \n",
       "\n",
       "  month day_of_week  ...  campaign  pdays  previous     poutcome emp.var.rate  \\\n",
       "0   may         mon  ...         1    999         0  nonexistent          1.1   \n",
       "1   may         mon  ...         1    999         0  nonexistent          1.1   \n",
       "2   may         mon  ...         1    999         0  nonexistent          1.1   \n",
       "3   may         mon  ...         1    999         0  nonexistent          1.1   \n",
       "4   may         mon  ...         1    999         0  nonexistent          1.1   \n",
       "\n",
       "   cons.price.idx  cons.conf.idx  euribor3m  nr.employed   y  \n",
       "0          93.994          -36.4      4.857       5191.0  no  \n",
       "1          93.994          -36.4      4.857       5191.0  no  \n",
       "2          93.994          -36.4      4.857       5191.0  no  \n",
       "3          93.994          -36.4      4.857       5191.0  no  \n",
       "4          93.994          -36.4      4.857       5191.0  no  \n",
       "\n",
       "[5 rows x 21 columns]"
      ]
     },
     "execution_count": 4,
     "metadata": {},
     "output_type": "execute_result"
    }
   ],
   "source": [
    "df.head()"
   ]
  },
  {
   "cell_type": "code",
   "execution_count": 5,
   "metadata": {},
   "outputs": [
    {
     "name": "stdout",
     "output_type": "stream",
     "text": [
      "<class 'pandas.core.frame.DataFrame'>\n",
      "RangeIndex: 41188 entries, 0 to 41187\n",
      "Data columns (total 21 columns):\n",
      " #   Column          Non-Null Count  Dtype  \n",
      "---  ------          --------------  -----  \n",
      " 0   age             41188 non-null  int64  \n",
      " 1   job             41188 non-null  object \n",
      " 2   marital         41188 non-null  object \n",
      " 3   education       41188 non-null  object \n",
      " 4   default         41188 non-null  object \n",
      " 5   housing         41188 non-null  object \n",
      " 6   loan            41188 non-null  object \n",
      " 7   contact         41188 non-null  object \n",
      " 8   month           41188 non-null  object \n",
      " 9   day_of_week     41188 non-null  object \n",
      " 10  duration        41188 non-null  int64  \n",
      " 11  campaign        41188 non-null  int64  \n",
      " 12  pdays           41188 non-null  int64  \n",
      " 13  previous        41188 non-null  int64  \n",
      " 14  poutcome        41188 non-null  object \n",
      " 15  emp.var.rate    41188 non-null  float64\n",
      " 16  cons.price.idx  41188 non-null  float64\n",
      " 17  cons.conf.idx   41188 non-null  float64\n",
      " 18  euribor3m       41188 non-null  float64\n",
      " 19  nr.employed     41188 non-null  float64\n",
      " 20  y               41188 non-null  object \n",
      "dtypes: float64(5), int64(5), object(11)\n",
      "memory usage: 6.6+ MB\n"
     ]
    }
   ],
   "source": [
    "df.info()"
   ]
  },
  {
   "cell_type": "markdown",
   "metadata": {},
   "source": [
    "**Encode the data**"
   ]
  },
  {
   "cell_type": "code",
   "execution_count": 9,
   "metadata": {},
   "outputs": [],
   "source": [
    "def ordinal_encode_df(df):\n",
    "    enc = OrdinalEncoder()\n",
    "    enc.fit(df)\n",
    "    return enc.transform(df)\n",
    "\n",
    "# X encoded\n",
    "ordinal_values = ordinal_encode_df(df.drop(columns=['y']))\n",
    "df_o_transformed = pd.DataFrame(ordinal_values, columns=df.columns[0:-1])\n",
    "\n",
    "def label_encode(df):\n",
    "    le = LabelEncoder()\n",
    "    le.fit(df)\n",
    "    return le.transform(df)\n",
    "\n",
    "# y encoded\n",
    "label_values = label_encode(df['y'])\n",
    "df_l_transformed = pd.DataFrame(label_values, columns=['y'])"
   ]
  },
  {
   "cell_type": "code",
   "execution_count": 18,
   "metadata": {},
   "outputs": [],
   "source": [
    "X = df_o_transformed # 41188, 20\n",
    "y = df_l_transformed['y'] # 41188,\n",
    "\n",
    "X_train, X_test, y_train, y_test = train_test_split(X, y, test_size=0.33, random_state=42)\n",
    "# (27595, 20) (13593, 20) (27595,) (13593,)"
   ]
  },
  {
   "cell_type": "code",
   "execution_count": 43,
   "metadata": {},
   "outputs": [
    {
     "data": {
      "text/plain": [
       "array(['age', 'job', 'marital', 'education', 'default', 'housing', 'loan',\n",
       "       'contact', 'month', 'day_of_week', 'duration', 'campaign', 'pdays',\n",
       "       'previous', 'poutcome', 'emp.var.rate', 'cons.price.idx',\n",
       "       'cons.conf.idx', 'euribor3m'], dtype=object)"
      ]
     },
     "execution_count": 43,
     "metadata": {},
     "output_type": "execute_result"
    }
   ],
   "source": [
    "feature_selector = SequentialFeatureSelector(LinearRegression(), n_features_to_select='auto', direction='forward', scoring=\"balanced_accuracy\", tol=0.01, cv=5)\n",
    "feature_selector.fit_transform(X_train, y_train)\n",
    "feature_selector.get_feature_names_out()"
   ]
  },
  {
   "cell_type": "code",
   "execution_count": 44,
   "metadata": {},
   "outputs": [
    {
     "data": {
      "text/plain": [
       "array(['age', 'job', 'marital', 'education', 'default', 'housing', 'loan',\n",
       "       'contact', 'month', 'day_of_week', 'duration', 'campaign', 'pdays',\n",
       "       'previous', 'poutcome', 'emp.var.rate', 'cons.price.idx',\n",
       "       'cons.conf.idx', 'euribor3m'], dtype=object)"
      ]
     },
     "execution_count": 44,
     "metadata": {},
     "output_type": "execute_result"
    }
   ],
   "source": [
    "feature_selector = SequentialFeatureSelector(LinearRegression(), n_features_to_select='auto', direction='forward', scoring=\"recall\", tol=0.01, cv=5)\n",
    "feature_selector.fit_transform(X_train, y_train)\n",
    "feature_selector.get_feature_names_out()"
   ]
  },
  {
   "cell_type": "code",
   "execution_count": 195,
   "metadata": {},
   "outputs": [
    {
     "data": {
      "text/plain": [
       "10.0    16234\n",
       "6.0      8534\n",
       "8.0      7763\n",
       "9.0      3683\n",
       "5.0      1663\n",
       "3.0      1071\n",
       "1.0       773\n",
       "2.0       650\n",
       "0.0       635\n",
       "4.0       172\n",
       "7.0        10\n",
       "Name: nr.employed, dtype: int64"
      ]
     },
     "execution_count": 195,
     "metadata": {},
     "output_type": "execute_result"
    }
   ],
   "source": [
    "df_o_transformed['nr.employed'].value_counts()"
   ]
  },
  {
   "cell_type": "code",
   "execution_count": 46,
   "metadata": {},
   "outputs": [
    {
     "data": {
      "text/plain": [
       "Index(['age', 'job', 'marital', 'education', 'default', 'housing', 'loan',\n",
       "       'contact', 'month', 'day_of_week', 'duration', 'campaign', 'pdays',\n",
       "       'previous', 'poutcome', 'emp.var.rate', 'cons.price.idx',\n",
       "       'cons.conf.idx', 'euribor3m', 'nr.employed'],\n",
       "      dtype='object')"
      ]
     },
     "execution_count": 46,
     "metadata": {},
     "output_type": "execute_result"
    }
   ],
   "source": [
    "df_o_transformed.columns"
   ]
  },
  {
   "cell_type": "markdown",
   "metadata": {},
   "source": [
    "**From the two SequentialFeatureSelector, it can be seen that only the 'nr.employed' is omitted**"
   ]
  },
  {
   "cell_type": "code",
   "execution_count": 241,
   "metadata": {},
   "outputs": [
    {
     "data": {
      "text/plain": [
       "((41188, 19), (41188,))"
      ]
     },
     "execution_count": 241,
     "metadata": {},
     "output_type": "execute_result"
    }
   ],
   "source": [
    "X = df_o_transformed.drop(columns=['nr.employed'])\n",
    "y = df_l_transformed['y']\n",
    "\n",
    "X.shape, y.shape"
   ]
  },
  {
   "cell_type": "code",
   "execution_count": 242,
   "metadata": {},
   "outputs": [
    {
     "name": "stdout",
     "output_type": "stream",
     "text": [
      "Counter({0: 36548, 1: 4640})\n"
     ]
    }
   ],
   "source": [
    "counter = Counter(y)\n",
    "print(counter)"
   ]
  },
  {
   "cell_type": "code",
   "execution_count": 177,
   "metadata": {},
   "outputs": [],
   "source": [
    "X_train, X_test, y_train, y_test = train_test_split(X, y, test_size=0.33, random_state=42, stratify=y)"
   ]
  },
  {
   "cell_type": "markdown",
   "metadata": {},
   "source": [
    "Hyperparameter tuning and grid search. All of our models have additional hyperparameters to tune and explore. For example the number of neighbors in KNN or the maximum depth of a Decision Tree."
   ]
  },
  {
   "cell_type": "code",
   "execution_count": 80,
   "metadata": {},
   "outputs": [],
   "source": [
    "def run_grid_search_return_cs_results(pipeline, params, X_train, y_train, X_test, y_test):\n",
    "    grid = GridSearchCV(pipeline, params, return_train_score=True, cv=5).fit(X_train, y_train)\n",
    "    grid_score = grid.score(X_test, y_test)\n",
    "    return grid.cv_results_, grid.best_params_, grid_score"
   ]
  },
  {
   "cell_type": "code",
   "execution_count": 81,
   "metadata": {},
   "outputs": [],
   "source": [
    "def score_model(model, X, y, X_train, y_train, X_test, y_test, pos_label):\n",
    "    scoring_dict = {}\n",
    "    \n",
    "    fit_start = time.time()\n",
    "    model.fit(X_train, y_train)\n",
    "    scoring_dict['fit_time'] = time.time() - fit_start\n",
    "    \n",
    "    cv_result = cross_validate(model, X, y, return_train_score=True, cv=5)\n",
    "    scoring_dict['training_accuracy'] = cv_result['train_score'].mean()\n",
    "    \n",
    "    y_pred = model.predict(X_test)\n",
    "    scoring_dict['test_accuracy'] = accuracy_score(y_test, y_pred)\n",
    "\n",
    "#     scoring_dict['accuracy'] = accuracy_score(y_test, y_pred)\n",
    "    scoring_dict['precision'] = precision_score(y_test, y_pred, pos_label=pos_label)\n",
    "    scoring_dict['recall'] = recall_score(y_test, y_pred, pos_label=pos_label)\n",
    "    scoring_dict['f1'] = f1_score(y_test, y_pred, pos_label=pos_label)\n",
    "    \n",
    "    return scoring_dict"
   ]
  },
  {
   "cell_type": "code",
   "execution_count": 82,
   "metadata": {},
   "outputs": [
    {
     "name": "stdout",
     "output_type": "stream",
     "text": [
      "--- LogisticRegression Grid Search:\n"
     ]
    },
    {
     "data": {
      "text/plain": [
       "{'train_score': 0.9109968593344204,\n",
       " 'test_score': 0.9102856797729059,\n",
       " 'avg_fit_time': 0.05247000622749328,\n",
       " 'best_max_iter': 100,\n",
       " 'best_solver': 'lbfgs'}"
      ]
     },
     "execution_count": 82,
     "metadata": {},
     "output_type": "execute_result"
    }
   ],
   "source": [
    "# LogisticRegression: find best params\n",
    "params = {\n",
    "    'lr__max_iter':np.arange(100,200), \n",
    "    'lr__solver':['lbfgs','liblinear','newton-cg','newton-cholesky','sag','saga']\n",
    "}\n",
    "pipeline = Pipeline([\n",
    "    ('scaler', StandardScaler()),\n",
    "    ('lr', LogisticRegression(random_state=42))\n",
    "])\n",
    "cv_results_lr_accuracy, best_params, score = run_grid_search_return_cs_results(pipeline, params, X_train, y_train, X_test, y_test)\n",
    "\n",
    "lr_grid_search_dict = {}\n",
    "\n",
    "tr = cv_results_lr_accuracy['mean_train_score']\n",
    "lr_grid_search_dict['train_score'] = tr[~np.isnan(tr)].mean()\n",
    "\n",
    "ts = cv_results_lr_accuracy['mean_test_score']\n",
    "lr_grid_search_dict['test_score'] = ts[~np.isnan(ts)].mean()\n",
    "\n",
    "lr_grid_search_dict['avg_fit_time'] = cv_results_lr_accuracy['mean_fit_time'].mean()\n",
    "lr_grid_search_dict['best_max_iter'] = best_params['lr__max_iter']\n",
    "lr_grid_search_dict['best_solver'] = best_params['lr__solver']\n",
    "\n",
    "print('--- LogisticRegression Grid Search:')\n",
    "lr_grid_search_dict"
   ]
  },
  {
   "cell_type": "markdown",
   "metadata": {},
   "source": [
    "- Adjust your performance metric"
   ]
  },
  {
   "cell_type": "code",
   "execution_count": 83,
   "metadata": {},
   "outputs": [
    {
     "name": "stdout",
     "output_type": "stream",
     "text": [
      "--- LogisticRegression Scores:\n"
     ]
    },
    {
     "data": {
      "text/plain": [
       "{'fit_time': 0.07808780670166016,\n",
       " 'training_accuracy': 0.9191450379556088,\n",
       " 'test_accuracy': 0.911351430883543,\n",
       " 'accuracy': 0.911351430883543,\n",
       " 'precision': 0.9290965141095565,\n",
       " 'recall': 0.9744652628088211,\n",
       " 'f1': 0.9512402379314531}"
      ]
     },
     "execution_count": 83,
     "metadata": {},
     "output_type": "execute_result"
    }
   ],
   "source": [
    "# LogisticRegression: use best params\n",
    "pipeline2 = Pipeline([\n",
    "    ('scaler', StandardScaler()),\n",
    "    ('lr', LogisticRegression(random_state=42, max_iter=100, solver='lbfgs'))\n",
    "])\n",
    "\n",
    "scoring_dict_lr = score_model(pipeline2, X, y, X_train, y_train, X_test, y_test, 0)\n",
    "\n",
    "print('--- LogisticRegression Scores:')\n",
    "scoring_dict_lr"
   ]
  },
  {
   "cell_type": "code",
   "execution_count": 84,
   "metadata": {},
   "outputs": [
    {
     "name": "stdout",
     "output_type": "stream",
     "text": [
      "--- KNeighborsClassifier Grid Search:\n"
     ]
    },
    {
     "data": {
      "text/plain": [
       "{'train_score': 0.9408208008697226,\n",
       " 'test_score': 0.8971770248233375,\n",
       " 'avg_fit_time': 0.0055844211578369145,\n",
       " 'best_k': 9}"
      ]
     },
     "execution_count": 84,
     "metadata": {},
     "output_type": "execute_result"
    }
   ],
   "source": [
    "# KNeighborsClassifier: find best params\n",
    "params = {'knn__n_neighbors':np.arange(1,11,2)}\n",
    "pipeline3 = Pipeline([\n",
    "    ('scaler', StandardScaler()),\n",
    "    ('knn', KNeighborsClassifier())\n",
    "])\n",
    "cv_results_knn, best_params, score = run_grid_search_return_cs_results(pipeline3, params, X_train, y_train, X_test, y_test)\n",
    "\n",
    "knn_grid_search_dict = {}\n",
    "\n",
    "tr = cv_results_knn['mean_train_score']\n",
    "knn_grid_search_dict['train_score'] = tr[~np.isnan(tr)].mean()\n",
    "\n",
    "ts = cv_results_knn['mean_test_score']\n",
    "knn_grid_search_dict['test_score'] = ts[~np.isnan(ts)].mean()\n",
    "\n",
    "knn_grid_search_dict['avg_fit_time'] = cv_results_knn['mean_fit_time'].mean()\n",
    "knn_grid_search_dict['best_k'] = best_params['knn__n_neighbors']\n",
    "\n",
    "print('--- KNeighborsClassifier Grid Search:')\n",
    "knn_grid_search_dict"
   ]
  },
  {
   "cell_type": "code",
   "execution_count": 63,
   "metadata": {},
   "outputs": [
    {
     "name": "stdout",
     "output_type": "stream",
     "text": [
      "--- KNeighborsClassifier Scores:\n"
     ]
    },
    {
     "data": {
      "text/plain": [
       "{'fit_time': 0.020617961883544922,\n",
       " 'training_accuracy': 0.9320007255911189,\n",
       " 'test_accuracy': 0.9025969248878098,\n",
       " 'accuracy': 0.9025969248878098,\n",
       " 'precision': 0.9238546603475514,\n",
       " 'recall': 0.9701393497013935,\n",
       " 'f1': 0.9464314614015212}"
      ]
     },
     "execution_count": 63,
     "metadata": {},
     "output_type": "execute_result"
    }
   ],
   "source": [
    "# KNeighborsClassifier using best params\n",
    "pipeline4 = Pipeline([\n",
    "    ('scaler', StandardScaler()),\n",
    "    ('knn', KNeighborsClassifier(n_neighbors=9))\n",
    "])\n",
    "\n",
    "scoring_dict_knn = score_model(pipeline4, X, y, X_train, y_train, X_test, y_test, 0)\n",
    "\n",
    "print('--- KNeighborsClassifier Scores:')\n",
    "scoring_dict_knn"
   ]
  },
  {
   "cell_type": "code",
   "execution_count": 89,
   "metadata": {},
   "outputs": [
    {
     "name": "stdout",
     "output_type": "stream",
     "text": [
      "--- DecisionTreeClassifier Grid Search:\n"
     ]
    },
    {
     "data": {
      "text/plain": [
       "{'train_score': 0.8965935857945281,\n",
       " 'test_score': 0.8953715447645507,\n",
       " 'avg_fit_time': 0.017237642076280382,\n",
       " 'best_criterion': 'gini',\n",
       " 'best_max_depth': 3}"
      ]
     },
     "execution_count": 89,
     "metadata": {},
     "output_type": "execute_result"
    }
   ],
   "source": [
    "# DecisionTreeClassifier: find best params\n",
    "params = {\n",
    "    'tree__criterion':['gini', 'entropy', 'log_loss'],\n",
    "    'tree__max_depth':np.arange(1,4)\n",
    "}\n",
    "pipeline5 = Pipeline([\n",
    "    ('scaler', StandardScaler()),\n",
    "    ('tree', DecisionTreeClassifier())\n",
    "])\n",
    "cv_results_tree, best_params, score = run_grid_search_return_cs_results(pipeline5, params, X_train, y_train, X_test, y_test)\n",
    "\n",
    "tree_grid_search_dict = {}\n",
    "\n",
    "tr = cv_results_tree['mean_train_score']\n",
    "tree_grid_search_dict['train_score'] = tr[~np.isnan(tr)].mean()\n",
    "\n",
    "ts = cv_results_tree['mean_test_score']\n",
    "tree_grid_search_dict['test_score'] = ts[~np.isnan(ts)].mean()\n",
    "\n",
    "tree_grid_search_dict['avg_fit_time'] = cv_results_tree['mean_fit_time'].mean()\n",
    "tree_grid_search_dict['best_criterion'] = best_params['tree__criterion']\n",
    "tree_grid_search_dict['best_max_depth'] = best_params['tree__max_depth']\n",
    "\n",
    "print('--- DecisionTreeClassifier Grid Search:')\n",
    "tree_grid_search_dict"
   ]
  },
  {
   "cell_type": "code",
   "execution_count": 90,
   "metadata": {},
   "outputs": [
    {
     "name": "stdout",
     "output_type": "stream",
     "text": [
      "--- DecisionTreeClassifier Scores:\n"
     ]
    },
    {
     "data": {
      "text/plain": [
       "{'fit_time': 0.04920816421508789,\n",
       " 'training_accuracy': 0.9192178317471351,\n",
       " 'test_accuracy': 0.9078202015743397,\n",
       " 'accuracy': 0.9078202015743397,\n",
       " 'precision': 0.9486924034869241,\n",
       " 'recall': 0.9473553307909136,\n",
       " 'f1': 0.9480233956941967}"
      ]
     },
     "execution_count": 90,
     "metadata": {},
     "output_type": "execute_result"
    }
   ],
   "source": [
    "# DecisionTreeClassifier using best params\n",
    "pipeline6 = Pipeline([\n",
    "    ('scaler', StandardScaler()),\n",
    "    ('tree', DecisionTreeClassifier(criterion='gini', max_depth=3))\n",
    "])\n",
    "\n",
    "scoring_dict_tree = score_model(pipeline6, X, y, X_train, y_train, X_test, y_test, 0)\n",
    "\n",
    "print('--- DecisionTreeClassifier Scores:')\n",
    "scoring_dict_tree"
   ]
  },
  {
   "cell_type": "code",
   "execution_count": 73,
   "metadata": {},
   "outputs": [
    {
     "name": "stdout",
     "output_type": "stream",
     "text": [
      "--- SVC Grid Search:\n"
     ]
    },
    {
     "data": {
      "text/plain": [
       "{'train_score': 0.9031210930422178,\n",
       " 'test_score': 0.8986988131907955,\n",
       " 'avg_fit_time': 2.5838674420118335,\n",
       " 'best_c': 0.8600000000000001,\n",
       " 'best_kernel': 'rbf',\n",
       " 'best_gamma': 'scale'}"
      ]
     },
     "execution_count": 73,
     "metadata": {},
     "output_type": "execute_result"
    }
   ],
   "source": [
    "# SVC: find best params\n",
    "params = {\n",
    "    'svc__C':np.arange(0.01,1,0.05),\n",
    "    'svc__kernel':['linear', 'poly', 'rbf', 'sigmoid'],\n",
    "    'svc__gamma':['scale','auto']\n",
    "}\n",
    "pipeline7 = Pipeline([\n",
    "    ('scaler', StandardScaler()),\n",
    "    ('svc', SVC())\n",
    "])\n",
    "cv_results_tree, best_params, score = run_grid_search_return_cs_results(pipeline7, params, X_train, y_train, X_test, y_test)\n",
    "\n",
    "svc_grid_search_dict = {}\n",
    "\n",
    "tr = cv_results_tree['mean_train_score']\n",
    "svc_grid_search_dict['train_score'] = tr[~np.isnan(tr)].mean()\n",
    "\n",
    "ts = cv_results_tree['mean_test_score']\n",
    "svc_grid_search_dict['test_score'] = ts[~np.isnan(ts)].mean()\n",
    "\n",
    "svc_grid_search_dict['avg_fit_time'] = cv_results_tree['mean_fit_time'].mean()\n",
    "svc_grid_search_dict['best_c'] = best_params['svc__C']\n",
    "svc_grid_search_dict['best_kernel'] = best_params['svc__kernel']\n",
    "svc_grid_search_dict['best_gamma'] = best_params['svc__gamma']\n",
    "\n",
    "print(f'--- SVC Grid Search:')\n",
    "svc_grid_search_dict"
   ]
  },
  {
   "cell_type": "code",
   "execution_count": 126,
   "metadata": {},
   "outputs": [
    {
     "name": "stdout",
     "output_type": "stream",
     "text": [
      "--- SVC Scores:\n"
     ]
    },
    {
     "data": {
      "text/plain": [
       "{'fit_time': 22.738797187805176,\n",
       " 'training_accuracy': 0.9343497046172713,\n",
       " 'test_accuracy': 0.9106893253880673,\n",
       " 'accuracy': 0.9106893253880673,\n",
       " 'precision': 0.9258125294394725,\n",
       " 'recall': 0.9776985574531587,\n",
       " 'f1': 0.9510483870967741}"
      ]
     },
     "execution_count": 126,
     "metadata": {},
     "output_type": "execute_result"
    }
   ],
   "source": [
    "# SVC using best params\n",
    "pipeline8 = Pipeline([\n",
    "    ('scaler', StandardScaler()),\n",
    "    ('svc', SVC(C=.8600000000000001, kernel='rbf', gamma='scale', probability=True))\n",
    "])\n",
    "\n",
    "scoring_dict_svc = score_model(pipeline8, X, y, X_train, y_train, X_test, y_test, 0)\n",
    "\n",
    "print('--- SVC Scores:')\n",
    "scoring_dict_svc"
   ]
  },
  {
   "cell_type": "code",
   "execution_count": 185,
   "metadata": {},
   "outputs": [],
   "source": [
    "def create_DF_from_model_results(results_list):\n",
    "    cummulative_dict = {}\n",
    "    for result_dict in results_list:\n",
    "        for key, value in result_dict.items():\n",
    "            if key in cummulative_dict:\n",
    "                cummulative_dict[key].append(value)\n",
    "            else:\n",
    "                cummulative_dict[key] = [value]\n",
    "\n",
    "    scoring_results = pd.DataFrame.from_dict(cummulative_dict, orient='index')\n",
    "    scoring_results.columns = ['LogisticRegression','KNeighborsClassifier','DecisionTreeClassifier','SVC']\n",
    "    return scoring_results.T"
   ]
  },
  {
   "cell_type": "code",
   "execution_count": 188,
   "metadata": {},
   "outputs": [
    {
     "data": {
      "text/html": [
       "<div>\n",
       "<style scoped>\n",
       "    .dataframe tbody tr th:only-of-type {\n",
       "        vertical-align: middle;\n",
       "    }\n",
       "\n",
       "    .dataframe tbody tr th {\n",
       "        vertical-align: top;\n",
       "    }\n",
       "\n",
       "    .dataframe thead th {\n",
       "        text-align: right;\n",
       "    }\n",
       "</style>\n",
       "<table border=\"1\" class=\"dataframe\">\n",
       "  <thead>\n",
       "    <tr style=\"text-align: right;\">\n",
       "      <th></th>\n",
       "      <th>fit_time</th>\n",
       "      <th>training_accuracy</th>\n",
       "      <th>test_accuracy</th>\n",
       "      <th>accuracy</th>\n",
       "      <th>precision</th>\n",
       "      <th>recall</th>\n",
       "      <th>f1</th>\n",
       "    </tr>\n",
       "  </thead>\n",
       "  <tbody>\n",
       "    <tr>\n",
       "      <th>LogisticRegression</th>\n",
       "      <td>0.078088</td>\n",
       "      <td>0.919145</td>\n",
       "      <td>0.911351</td>\n",
       "      <td>0.911351</td>\n",
       "      <td>0.929097</td>\n",
       "      <td>0.974465</td>\n",
       "      <td>0.951240</td>\n",
       "    </tr>\n",
       "    <tr>\n",
       "      <th>KNeighborsClassifier</th>\n",
       "      <td>0.020618</td>\n",
       "      <td>0.932001</td>\n",
       "      <td>0.902597</td>\n",
       "      <td>0.902597</td>\n",
       "      <td>0.923855</td>\n",
       "      <td>0.970139</td>\n",
       "      <td>0.946431</td>\n",
       "    </tr>\n",
       "    <tr>\n",
       "      <th>DecisionTreeClassifier</th>\n",
       "      <td>0.049208</td>\n",
       "      <td>0.919218</td>\n",
       "      <td>0.907820</td>\n",
       "      <td>0.907820</td>\n",
       "      <td>0.948692</td>\n",
       "      <td>0.947355</td>\n",
       "      <td>0.948023</td>\n",
       "    </tr>\n",
       "    <tr>\n",
       "      <th>SVC</th>\n",
       "      <td>22.738797</td>\n",
       "      <td>0.934350</td>\n",
       "      <td>0.910689</td>\n",
       "      <td>0.910689</td>\n",
       "      <td>0.925813</td>\n",
       "      <td>0.977699</td>\n",
       "      <td>0.951048</td>\n",
       "    </tr>\n",
       "  </tbody>\n",
       "</table>\n",
       "</div>"
      ],
      "text/plain": [
       "                         fit_time  training_accuracy  test_accuracy  accuracy  \\\n",
       "LogisticRegression       0.078088           0.919145       0.911351  0.911351   \n",
       "KNeighborsClassifier     0.020618           0.932001       0.902597  0.902597   \n",
       "DecisionTreeClassifier   0.049208           0.919218       0.907820  0.907820   \n",
       "SVC                     22.738797           0.934350       0.910689  0.910689   \n",
       "\n",
       "                        precision    recall        f1  \n",
       "LogisticRegression       0.929097  0.974465  0.951240  \n",
       "KNeighborsClassifier     0.923855  0.970139  0.946431  \n",
       "DecisionTreeClassifier   0.948692  0.947355  0.948023  \n",
       "SVC                      0.925813  0.977699  0.951048  "
      ]
     },
     "execution_count": 188,
     "metadata": {},
     "output_type": "execute_result"
    }
   ],
   "source": [
    "results_list = [scoring_dict_lr, scoring_dict_knn, scoring_dict_tree, scoring_dict_svc]\n",
    "scoring_results = create_DF_from_model_results(results_list)\n",
    "scoring_results"
   ]
  },
  {
   "cell_type": "code",
   "execution_count": 157,
   "metadata": {},
   "outputs": [],
   "source": [
    "y_pred_prob1 = pipeline2.fit(X_train, y_train).predict_proba(X_test)[:,1]\n",
    "fpr1 , tpr1, thresholds1 = roc_curve(y_test, y_pred_prob1)\n",
    "\n",
    "y_pred_prob2 = pipeline4.fit(X_train, y_train).predict_proba(X_test)[:,1]\n",
    "fpr2 , tpr2, thresholds2 = roc_curve(y_test, y_pred_prob2)\n",
    "\n",
    "y_pred_prob3 = pipeline6.fit(X_train, y_train).predict_proba(X_test)[:,1]\n",
    "fpr3 , tpr3, thresholds3 = roc_curve(y_test, y_pred_prob3)\n",
    "\n",
    "y_pred_prob4 = pipeline8.fit(X_train, y_train).predict_proba(X_test)[:,1]\n",
    "fpr4 , tpr4, thresholds4 = roc_curve(y_test, y_pred_prob4)"
   ]
  },
  {
   "cell_type": "code",
   "execution_count": 159,
   "metadata": {},
   "outputs": [
    {
     "data": {
      "image/png": "[encoded data removed]",
      "text/plain": [
       "<Figure size 640x480 with 1 Axes>"
      ]
     },
     "metadata": {},
     "output_type": "display_data"
    },
    {
     "data": {
      "text/plain": [
       "<Figure size 640x480 with 0 Axes>"
      ]
     },
     "metadata": {},
     "output_type": "display_data"
    }
   ],
   "source": [
    "plt.plot([0,1],[0,1], 'k--')\n",
    "plt.plot(fpr1, tpr1, label= \"LogisticRegression\")\n",
    "plt.plot(fpr2, tpr2, label= \"KNeighborsClassifier\")\n",
    "plt.plot(fpr3, tpr3, label= \"DecisionTreeClassifier\")\n",
    "plt.plot(fpr4, tpr4, label= \"SVC\")\n",
    "plt.legend()\n",
    "plt.xlabel(\"FPR\")\n",
    "plt.ylabel(\"TPR\")\n",
    "plt.title('Receiver Operating Characteristic')\n",
    "plt.show()\n",
    "\n",
    "plt.savefig(\"images/roc_tuned.jpg\", bbox_inches='tight')"
   ]
  },
  {
   "cell_type": "code",
   "execution_count": 153,
   "metadata": {},
   "outputs": [],
   "source": [
    "y_pred_lr = pipeline2.fit(X_train, y_train).predict(X_test)\n",
    "cm_lr = confusion_matrix(y_test, y_pred_lr)\n",
    "\n",
    "y_pred_knn = pipeline4.fit(X_train, y_train).predict(X_test)\n",
    "cm_knn = confusion_matrix(y_test, y_pred_knn)\n",
    "\n",
    "y_pred_tree = pipeline6.fit(X_train, y_train).predict(X_test)\n",
    "cm_tree = confusion_matrix(y_test, y_pred_tree)\n",
    "\n",
    "y_pred_svc = pipeline8.fit(X_train, y_train).predict(X_test)\n",
    "cm_svc = confusion_matrix(y_test, y_pred_svc)"
   ]
  },
  {
   "cell_type": "code",
   "execution_count": 197,
   "metadata": {},
   "outputs": [
    {
     "data": {
      "text/plain": [
       "11793"
      ]
     },
     "execution_count": 197,
     "metadata": {},
     "output_type": "execute_result"
    }
   ],
   "source": []
  },
  {
   "cell_type": "code",
   "execution_count": 155,
   "metadata": {
    "scrolled": true
   },
   "outputs": [
    {
     "data": {
      "image/png": "[encoded data removed]",
      "text/plain": [
       "<Figure size 1500x1500 with 4 Axes>"
      ]
     },
     "metadata": {},
     "output_type": "display_data"
    }
   ],
   "source": [
    "title_size = 15\n",
    "cmap = \"Oranges\"\n",
    "colorbar = False\n",
    "# values_format = \".3f\"\n",
    "\n",
    "f, axes = plt.subplots(2, 2, figsize=(15, 15))\n",
    "\n",
    "axes[0,0].set_title('LogisticRegression', size=title_size)\n",
    "ConfusionMatrixDisplay(confusion_matrix=cm_lr, display_labels=[False, True]).plot(\n",
    "    include_values=True, cmap=cmap, ax=axes[0, 0], colorbar=colorbar)\n",
    "\n",
    "axes[0,1].set_title('KNeighborsClassifier', size=title_size)\n",
    "ConfusionMatrixDisplay(confusion_matrix=cm_knn, display_labels=[False, True]).plot(\n",
    "    include_values=True, cmap=cmap, ax=axes[0, 1], colorbar=colorbar)\n",
    "\n",
    "axes[1,0].set_title('DecisionTreeClassifier', size=title_size)\n",
    "ConfusionMatrixDisplay(confusion_matrix=cm_tree, display_labels=[False, True]).plot(\n",
    "    include_values=True, cmap=cmap, ax=axes[1, 0], colorbar=colorbar)\n",
    "\n",
    "axes[1,1].set_title('SVC', size=title_size)\n",
    "ConfusionMatrixDisplay(confusion_matrix=cm_svc, display_labels=[False, True]).plot(\n",
    "    include_values=True, cmap=cmap, ax=axes[1, 1], colorbar=colorbar)\n",
    "\n",
    "f.suptitle(\"4 Model Confusion Matrices\", size=title_size, y=0.93)\n",
    "\n",
    "plt.show()\n",
    "\n",
    "f.savefig(\"images/4_model_confusion_matrices.jpg\", bbox_inches='tight')"
   ]
  },
  {
   "cell_type": "code",
   "execution_count": 203,
   "metadata": {},
   "outputs": [],
   "source": [
    "def calculate_cm_accuracy(tp, tn, fp, fn):\n",
    "    return (tp + tn) / (tp + tn + fp + fn)"
   ]
  },
  {
   "cell_type": "code",
   "execution_count": 199,
   "metadata": {},
   "outputs": [],
   "source": [
    "def calculate_cm_precision(tp, fp):\n",
    "    return tp / (tp + fp)"
   ]
  },
  {
   "cell_type": "code",
   "execution_count": 200,
   "metadata": {},
   "outputs": [],
   "source": [
    "def calculate_cm_recall(tp, fn):\n",
    "    return tp / (tp + fn)"
   ]
  },
  {
   "cell_type": "code",
   "execution_count": 217,
   "metadata": {},
   "outputs": [],
   "source": [
    "def calculate_f1(tp, fp, fn):\n",
    "    precision = calculate_cm_precision(tp, fp)\n",
    "    recall = calculate_cm_recall(tp, fn)\n",
    "    return 2 * (precision / recall)"
   ]
  },
  {
   "cell_type": "code",
   "execution_count": 218,
   "metadata": {},
   "outputs": [],
   "source": [
    "def calculate_cm_accuracy_precision_recall(cm):\n",
    "    tn = cm[0][0]\n",
    "    fp = cm[0][1]\n",
    "    fn = cm[1][0]\n",
    "    tp = cm[1][1]\n",
    "    \n",
    "    return [calculate_cm_accuracy(tp, tn, fp, fn), calculate_cm_precision(tp, fp), calculate_cm_recall(tp, fn), calculate_f1(tp, fp, fn)]"
   ]
  },
  {
   "cell_type": "code",
   "execution_count": 226,
   "metadata": {},
   "outputs": [],
   "source": [
    "def calculate_scores_for_confusion_matrices(confusion_matrix_list):\n",
    "    model_list = ['LogisticRegression','KNeighborsClassifier','DecisionTreeClassifier','SVC']\n",
    "\n",
    "    accuracy_precision_recall_f1_dict = {}\n",
    "    for i in range(len(model_list)):\n",
    "        accuracy_precision_recall_f1_dict[model_list[i]] = calculate_cm_accuracy_precision_recall(confusion_matrix_list[i])\n",
    "    \n",
    "    return accuracy_precision_recall_f1_dict"
   ]
  },
  {
   "cell_type": "code",
   "execution_count": 227,
   "metadata": {},
   "outputs": [
    {
     "data": {
      "text/html": [
       "<div>\n",
       "<style scoped>\n",
       "    .dataframe tbody tr th:only-of-type {\n",
       "        vertical-align: middle;\n",
       "    }\n",
       "\n",
       "    .dataframe tbody tr th {\n",
       "        vertical-align: top;\n",
       "    }\n",
       "\n",
       "    .dataframe thead th {\n",
       "        text-align: right;\n",
       "    }\n",
       "</style>\n",
       "<table border=\"1\" class=\"dataframe\">\n",
       "  <thead>\n",
       "    <tr style=\"text-align: right;\">\n",
       "      <th></th>\n",
       "      <th>Accuracy</th>\n",
       "      <th>Precision</th>\n",
       "      <th>Recall</th>\n",
       "      <th>F1</th>\n",
       "    </tr>\n",
       "  </thead>\n",
       "  <tbody>\n",
       "    <tr>\n",
       "      <th>LogisticRegression</th>\n",
       "      <td>0.911351</td>\n",
       "      <td>0.673036</td>\n",
       "      <td>0.414108</td>\n",
       "      <td>3.250531</td>\n",
       "    </tr>\n",
       "    <tr>\n",
       "      <th>KNeighborsClassifier</th>\n",
       "      <td>0.905613</td>\n",
       "      <td>0.642857</td>\n",
       "      <td>0.364468</td>\n",
       "      <td>3.527650</td>\n",
       "    </tr>\n",
       "    <tr>\n",
       "      <th>DecisionTreeClassifier</th>\n",
       "      <td>0.907820</td>\n",
       "      <td>0.589793</td>\n",
       "      <td>0.596342</td>\n",
       "      <td>1.978036</td>\n",
       "    </tr>\n",
       "    <tr>\n",
       "      <th>SVC</th>\n",
       "      <td>0.910689</td>\n",
       "      <td>0.685380</td>\n",
       "      <td>0.382756</td>\n",
       "      <td>3.581287</td>\n",
       "    </tr>\n",
       "  </tbody>\n",
       "</table>\n",
       "</div>"
      ],
      "text/plain": [
       "                        Accuracy  Precision    Recall        F1\n",
       "LogisticRegression      0.911351   0.673036  0.414108  3.250531\n",
       "KNeighborsClassifier    0.905613   0.642857  0.364468  3.527650\n",
       "DecisionTreeClassifier  0.907820   0.589793  0.596342  1.978036\n",
       "SVC                     0.910689   0.685380  0.382756  3.581287"
      ]
     },
     "execution_count": 227,
     "metadata": {},
     "output_type": "execute_result"
    }
   ],
   "source": [
    "confusion_matrix_list = [cm_lr,cm_knn,cm_tree,cm_svc]\n",
    "accuracy_precision_recall_f1_dict = calculate_scores_for_confusion_matrices(confusion_matrix_list)\n",
    "\n",
    "df_accuracy_precision_recall = pd.DataFrame(accuracy_precision_recall_dict).T\n",
    "df_accuracy_precision_recall.columns = ['Accuracy','Precision','Recall', 'F1']\n",
    "df_accuracy_precision_recall"
   ]
  }
 ],
 "metadata": {
  "kernelspec": {
   "display_name": "Python 3 (ipykernel)",
   "language": "python",
   "name": "python3"
  },
  "language_info": {
   "codemirror_mode": {
    "name": "ipython",
    "version": 3
   },
   "file_extension": ".py",
   "mimetype": "text/x-python",
   "name": "python",
   "nbconvert_exporter": "python",
   "pygments_lexer": "ipython3",
   "version": "3.10.9"
  },
  "widgets": {
   "application/vnd.jupyter.widget-state+json": {
    "state": {},
    "version_major": 2,
    "version_minor": 0
   }
  }
 },
 "nbformat": 4,
 "nbformat_minor": 4
}
